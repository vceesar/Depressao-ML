{
 "cells": [
  {
   "cell_type": "code",
   "execution_count": 1,
   "metadata": {
    "pycharm": {
     "name": "#%%\n"
    }
   },
   "outputs": [],
   "source": [
    "import tweepy as tw\n",
    "import pandas as pd\n",
    "import configparser as cp\n",
    "from textblob import TextBlob\n",
    "import re\n",
    "import json\n",
    "import numpy as np\n",
    "import nltk\n",
    "import sklearn \n",
    "import seaborn as sb\n",
    "import matplotlib.pyplot as plt\n",
    "from colorama import Fore,Style,Back\n",
    "from nltk.corpus import stopwords\n",
    "from nltk.stem import PorterStemmer\n",
    "from sklearn.model_selection import train_test_split\n",
    "from sklearn.feature_extraction.text import CountVectorizer\n",
    "from sklearn.feature_extraction.text import TfidfVectorizer\n",
    "#ALGORITMOS SELECIONADOS ATÉ O MOMENTO\n",
    "from sklearn.ensemble import RandomForestClassifier\n",
    "from sklearn.tree import DecisionTreeClassifier\n",
    "from sklearn.neighbors import KNeighborsClassifier\n",
    "from sklearn.linear_model import LogisticRegression\n",
    "#-----------------------------------------\n",
    "from sklearn.metrics import classification_report\n",
    "from sklearn.metrics import f1_score\n",
    "from sklearn.metrics import confusion_matrix\n",
    "from sklearn.metrics import accuracy_score\n",
    "from sklearn.metrics import precision_score\n",
    "from sklearn.metrics import recall_score\n",
    "from sklearn.metrics import roc_curve\n",
    "from sklearn.metrics import roc_auc_score\n",
    "\n",
    "np.random.seed(1914)  ## IMPORTANTE PARA TER OS MESMOS RESULTADOS NA HORA QUE RODAR. \n",
    "\n",
    "\n",
    "\n",
    "## mudar thema do notebook jt -t solarizedd -T -N -kl\n",
    "# Resetar thema jt -r\n",
    "from jupyterthemes import jtplot\n",
    "jtplot.style(theme='onedork')"
   ]
  },
  {
   "cell_type": "code",
   "execution_count": 2,
   "metadata": {
    "pycharm": {
     "name": "#%%\n"
    }
   },
   "outputs": [],
   "source": [
    "# nltk.download()"
   ]
  },
  {
   "cell_type": "code",
   "execution_count": 3,
   "metadata": {
    "pycharm": {
     "name": "#%%\n"
    }
   },
   "outputs": [],
   "source": [
    "# config = cp.ConfigParser()\n",
    "# config.read('config.ini')\n",
    "# api_key = config['twitter_credenciais']['api_key']\n",
    "# api_key_secret = config['twitter_credenciais']['api_key_secret']\n",
    "# access_token = config['twitter_credenciais']['access_token']\n",
    "# access_token_secret = config['twitter_credenciais']['access_token_secret']"
   ]
  },
  {
   "cell_type": "code",
   "execution_count": 4,
   "metadata": {
    "pycharm": {
     "name": "#%%\n"
    }
   },
   "outputs": [],
   "source": [
    "# auth = tw.OAuthHandler(api_key,api_key_secret)\n",
    "# auth.set_access_token(access_token,access_token_secret)\n",
    "# api = tw.API(auth)"
   ]
  },
  {
   "cell_type": "code",
   "execution_count": 5,
   "metadata": {
    "pycharm": {
     "name": "#%%\n"
    }
   },
   "outputs": [],
   "source": [
    "df = pd.read_csv('dataset_depressao.csv')\n",
    "filter = (df['id_tweet'] == 3696)\n",
    "df.loc[filter,'psiquico'] = 0 "
   ]
  },
  {
   "cell_type": "code",
   "execution_count": 6,
   "metadata": {
    "pycharm": {
     "name": "#%%\n"
    }
   },
   "outputs": [],
   "source": [
    "df.rename(columns = {'label':'target'}, inplace = True)"
   ]
  },
  {
   "cell_type": "code",
   "execution_count": 7,
   "metadata": {
    "pycharm": {
     "name": "#%%\n"
    }
   },
   "outputs": [
    {
     "data": {
      "text/html": [
       "<div>\n",
       "<style scoped>\n",
       "    .dataframe tbody tr th:only-of-type {\n",
       "        vertical-align: middle;\n",
       "    }\n",
       "\n",
       "    .dataframe tbody tr th {\n",
       "        vertical-align: top;\n",
       "    }\n",
       "\n",
       "    .dataframe thead th {\n",
       "        text-align: right;\n",
       "    }\n",
       "</style>\n",
       "<table border=\"1\" class=\"dataframe\">\n",
       "  <thead>\n",
       "    <tr style=\"text-align: right;\">\n",
       "      <th></th>\n",
       "      <th>id_tweet</th>\n",
       "      <th>ds_tweet</th>\n",
       "      <th>fisiologico</th>\n",
       "      <th>psiquico</th>\n",
       "      <th>comportamental</th>\n",
       "      <th>target</th>\n",
       "      <th>validado_espec</th>\n",
       "      <th>dh_tweet</th>\n",
       "    </tr>\n",
       "  </thead>\n",
       "  <tbody>\n",
       "    <tr>\n",
       "      <th>0</th>\n",
       "      <td>3696</td>\n",
       "      <td>dormi o dia inteiro tinha horas w meu desperta...</td>\n",
       "      <td>1</td>\n",
       "      <td>0</td>\n",
       "      <td>0</td>\n",
       "      <td>1</td>\n",
       "      <td>1</td>\n",
       "      <td>2019-10-09 02:32:41.000000</td>\n",
       "    </tr>\n",
       "    <tr>\n",
       "      <th>1</th>\n",
       "      <td>3885</td>\n",
       "      <td>já entendi que eu não sou importante tá bom</td>\n",
       "      <td>0</td>\n",
       "      <td>1</td>\n",
       "      <td>0</td>\n",
       "      <td>3</td>\n",
       "      <td>1</td>\n",
       "      <td>2019-10-12 12:15:04.000000</td>\n",
       "    </tr>\n",
       "    <tr>\n",
       "      <th>2</th>\n",
       "      <td>3888</td>\n",
       "      <td>chorando pq não sou importante pra ngm 👍🏿 http...</td>\n",
       "      <td>0</td>\n",
       "      <td>1</td>\n",
       "      <td>0</td>\n",
       "      <td>3</td>\n",
       "      <td>1</td>\n",
       "      <td>2019-10-11 23:56:04.000000</td>\n",
       "    </tr>\n",
       "    <tr>\n",
       "      <th>3</th>\n",
       "      <td>3889</td>\n",
       "      <td>Sinto sempre que nao sou importante para certa...</td>\n",
       "      <td>0</td>\n",
       "      <td>1</td>\n",
       "      <td>0</td>\n",
       "      <td>3</td>\n",
       "      <td>1</td>\n",
       "      <td>2019-10-12 14:43:38.000000</td>\n",
       "    </tr>\n",
       "    <tr>\n",
       "      <th>4</th>\n",
       "      <td>8369</td>\n",
       "      <td>Tô indo pra escola com a força do ódio</td>\n",
       "      <td>0</td>\n",
       "      <td>0</td>\n",
       "      <td>0</td>\n",
       "      <td>0</td>\n",
       "      <td>1</td>\n",
       "      <td>2019-10-11 12:10:22.000000</td>\n",
       "    </tr>\n",
       "    <tr>\n",
       "      <th>...</th>\n",
       "      <td>...</td>\n",
       "      <td>...</td>\n",
       "      <td>...</td>\n",
       "      <td>...</td>\n",
       "      <td>...</td>\n",
       "      <td>...</td>\n",
       "      <td>...</td>\n",
       "      <td>...</td>\n",
       "    </tr>\n",
       "    <tr>\n",
       "      <th>4045</th>\n",
       "      <td>10629</td>\n",
       "      <td>@LUCAztec como ousa</td>\n",
       "      <td>0</td>\n",
       "      <td>0</td>\n",
       "      <td>0</td>\n",
       "      <td>0</td>\n",
       "      <td>0</td>\n",
       "      <td>2019-11-01 00:58:30.000000</td>\n",
       "    </tr>\n",
       "    <tr>\n",
       "      <th>4046</th>\n",
       "      <td>10630</td>\n",
       "      <td>@tatastew aí amiga mas pelo menos ele lembra K...</td>\n",
       "      <td>0</td>\n",
       "      <td>0</td>\n",
       "      <td>0</td>\n",
       "      <td>0</td>\n",
       "      <td>0</td>\n",
       "      <td>2019-10-31 17:37:21.000000</td>\n",
       "    </tr>\n",
       "    <tr>\n",
       "      <th>4047</th>\n",
       "      <td>10631</td>\n",
       "      <td>eu só quero chegar em casa, tomar um banho e m...</td>\n",
       "      <td>0</td>\n",
       "      <td>0</td>\n",
       "      <td>0</td>\n",
       "      <td>0</td>\n",
       "      <td>0</td>\n",
       "      <td>2019-10-31 16:07:31.000000</td>\n",
       "    </tr>\n",
       "    <tr>\n",
       "      <th>4048</th>\n",
       "      <td>10632</td>\n",
       "      <td>vou ter que dar um menos no café porque se pá ...</td>\n",
       "      <td>0</td>\n",
       "      <td>0</td>\n",
       "      <td>0</td>\n",
       "      <td>0</td>\n",
       "      <td>0</td>\n",
       "      <td>2019-11-11 11:42:42.000000</td>\n",
       "    </tr>\n",
       "    <tr>\n",
       "      <th>4049</th>\n",
       "      <td>10633</td>\n",
       "      <td>@lxcxzs irmão lázaro???</td>\n",
       "      <td>0</td>\n",
       "      <td>0</td>\n",
       "      <td>0</td>\n",
       "      <td>0</td>\n",
       "      <td>0</td>\n",
       "      <td>2019-11-05 15:43:28.000000</td>\n",
       "    </tr>\n",
       "  </tbody>\n",
       "</table>\n",
       "<p>4050 rows × 8 columns</p>\n",
       "</div>"
      ],
      "text/plain": [
       "      id_tweet                                           ds_tweet  \\\n",
       "0         3696  dormi o dia inteiro tinha horas w meu desperta...   \n",
       "1         3885        já entendi que eu não sou importante tá bom   \n",
       "2         3888  chorando pq não sou importante pra ngm 👍🏿 http...   \n",
       "3         3889  Sinto sempre que nao sou importante para certa...   \n",
       "4         8369             Tô indo pra escola com a força do ódio   \n",
       "...        ...                                                ...   \n",
       "4045     10629                                @LUCAztec como ousa   \n",
       "4046     10630  @tatastew aí amiga mas pelo menos ele lembra K...   \n",
       "4047     10631  eu só quero chegar em casa, tomar um banho e m...   \n",
       "4048     10632  vou ter que dar um menos no café porque se pá ...   \n",
       "4049     10633                            @lxcxzs irmão lázaro???   \n",
       "\n",
       "      fisiologico  psiquico  comportamental  target  validado_espec  \\\n",
       "0               1         0               0       1               1   \n",
       "1               0         1               0       3               1   \n",
       "2               0         1               0       3               1   \n",
       "3               0         1               0       3               1   \n",
       "4               0         0               0       0               1   \n",
       "...           ...       ...             ...     ...             ...   \n",
       "4045            0         0               0       0               0   \n",
       "4046            0         0               0       0               0   \n",
       "4047            0         0               0       0               0   \n",
       "4048            0         0               0       0               0   \n",
       "4049            0         0               0       0               0   \n",
       "\n",
       "                        dh_tweet  \n",
       "0     2019-10-09 02:32:41.000000  \n",
       "1     2019-10-12 12:15:04.000000  \n",
       "2     2019-10-11 23:56:04.000000  \n",
       "3     2019-10-12 14:43:38.000000  \n",
       "4     2019-10-11 12:10:22.000000  \n",
       "...                          ...  \n",
       "4045  2019-11-01 00:58:30.000000  \n",
       "4046  2019-10-31 17:37:21.000000  \n",
       "4047  2019-10-31 16:07:31.000000  \n",
       "4048  2019-11-11 11:42:42.000000  \n",
       "4049  2019-11-05 15:43:28.000000  \n",
       "\n",
       "[4050 rows x 8 columns]"
      ]
     },
     "metadata": {},
     "output_type": "display_data"
    }
   ],
   "source": [
    "display(df)"
   ]
  },
  {
   "cell_type": "code",
   "execution_count": 8,
   "metadata": {
    "pycharm": {
     "name": "#%%\n"
    }
   },
   "outputs": [],
   "source": [
    "df['data_postagem'] = pd.to_datetime(df['dh_tweet']).dt.date\n",
    "df['hora_postagem'] = pd.to_datetime(df['dh_tweet']).dt.time"
   ]
  },
  {
   "cell_type": "code",
   "execution_count": 9,
   "metadata": {
    "pycharm": {
     "name": "#%%\n"
    }
   },
   "outputs": [
    {
     "data": {
      "text/html": [
       "<div>\n",
       "<style scoped>\n",
       "    .dataframe tbody tr th:only-of-type {\n",
       "        vertical-align: middle;\n",
       "    }\n",
       "\n",
       "    .dataframe tbody tr th {\n",
       "        vertical-align: top;\n",
       "    }\n",
       "\n",
       "    .dataframe thead th {\n",
       "        text-align: right;\n",
       "    }\n",
       "</style>\n",
       "<table border=\"1\" class=\"dataframe\">\n",
       "  <thead>\n",
       "    <tr style=\"text-align: right;\">\n",
       "      <th></th>\n",
       "      <th>id_tweet</th>\n",
       "      <th>ds_tweet</th>\n",
       "      <th>fisiologico</th>\n",
       "      <th>psiquico</th>\n",
       "      <th>comportamental</th>\n",
       "      <th>target</th>\n",
       "      <th>validado_espec</th>\n",
       "      <th>dh_tweet</th>\n",
       "      <th>data_postagem</th>\n",
       "      <th>hora_postagem</th>\n",
       "    </tr>\n",
       "  </thead>\n",
       "  <tbody>\n",
       "    <tr>\n",
       "      <th>0</th>\n",
       "      <td>3696</td>\n",
       "      <td>dormi o dia inteiro tinha horas w meu desperta...</td>\n",
       "      <td>1</td>\n",
       "      <td>0</td>\n",
       "      <td>0</td>\n",
       "      <td>1</td>\n",
       "      <td>1</td>\n",
       "      <td>2019-10-09 02:32:41.000000</td>\n",
       "      <td>2019-10-09</td>\n",
       "      <td>02:32:41</td>\n",
       "    </tr>\n",
       "    <tr>\n",
       "      <th>1</th>\n",
       "      <td>3885</td>\n",
       "      <td>já entendi que eu não sou importante tá bom</td>\n",
       "      <td>0</td>\n",
       "      <td>1</td>\n",
       "      <td>0</td>\n",
       "      <td>3</td>\n",
       "      <td>1</td>\n",
       "      <td>2019-10-12 12:15:04.000000</td>\n",
       "      <td>2019-10-12</td>\n",
       "      <td>12:15:04</td>\n",
       "    </tr>\n",
       "    <tr>\n",
       "      <th>2</th>\n",
       "      <td>3888</td>\n",
       "      <td>chorando pq não sou importante pra ngm 👍🏿 http...</td>\n",
       "      <td>0</td>\n",
       "      <td>1</td>\n",
       "      <td>0</td>\n",
       "      <td>3</td>\n",
       "      <td>1</td>\n",
       "      <td>2019-10-11 23:56:04.000000</td>\n",
       "      <td>2019-10-11</td>\n",
       "      <td>23:56:04</td>\n",
       "    </tr>\n",
       "    <tr>\n",
       "      <th>3</th>\n",
       "      <td>3889</td>\n",
       "      <td>Sinto sempre que nao sou importante para certa...</td>\n",
       "      <td>0</td>\n",
       "      <td>1</td>\n",
       "      <td>0</td>\n",
       "      <td>3</td>\n",
       "      <td>1</td>\n",
       "      <td>2019-10-12 14:43:38.000000</td>\n",
       "      <td>2019-10-12</td>\n",
       "      <td>14:43:38</td>\n",
       "    </tr>\n",
       "    <tr>\n",
       "      <th>4</th>\n",
       "      <td>8369</td>\n",
       "      <td>Tô indo pra escola com a força do ódio</td>\n",
       "      <td>0</td>\n",
       "      <td>0</td>\n",
       "      <td>0</td>\n",
       "      <td>0</td>\n",
       "      <td>1</td>\n",
       "      <td>2019-10-11 12:10:22.000000</td>\n",
       "      <td>2019-10-11</td>\n",
       "      <td>12:10:22</td>\n",
       "    </tr>\n",
       "    <tr>\n",
       "      <th>...</th>\n",
       "      <td>...</td>\n",
       "      <td>...</td>\n",
       "      <td>...</td>\n",
       "      <td>...</td>\n",
       "      <td>...</td>\n",
       "      <td>...</td>\n",
       "      <td>...</td>\n",
       "      <td>...</td>\n",
       "      <td>...</td>\n",
       "      <td>...</td>\n",
       "    </tr>\n",
       "    <tr>\n",
       "      <th>4045</th>\n",
       "      <td>10629</td>\n",
       "      <td>@LUCAztec como ousa</td>\n",
       "      <td>0</td>\n",
       "      <td>0</td>\n",
       "      <td>0</td>\n",
       "      <td>0</td>\n",
       "      <td>0</td>\n",
       "      <td>2019-11-01 00:58:30.000000</td>\n",
       "      <td>2019-11-01</td>\n",
       "      <td>00:58:30</td>\n",
       "    </tr>\n",
       "    <tr>\n",
       "      <th>4046</th>\n",
       "      <td>10630</td>\n",
       "      <td>@tatastew aí amiga mas pelo menos ele lembra K...</td>\n",
       "      <td>0</td>\n",
       "      <td>0</td>\n",
       "      <td>0</td>\n",
       "      <td>0</td>\n",
       "      <td>0</td>\n",
       "      <td>2019-10-31 17:37:21.000000</td>\n",
       "      <td>2019-10-31</td>\n",
       "      <td>17:37:21</td>\n",
       "    </tr>\n",
       "    <tr>\n",
       "      <th>4047</th>\n",
       "      <td>10631</td>\n",
       "      <td>eu só quero chegar em casa, tomar um banho e m...</td>\n",
       "      <td>0</td>\n",
       "      <td>0</td>\n",
       "      <td>0</td>\n",
       "      <td>0</td>\n",
       "      <td>0</td>\n",
       "      <td>2019-10-31 16:07:31.000000</td>\n",
       "      <td>2019-10-31</td>\n",
       "      <td>16:07:31</td>\n",
       "    </tr>\n",
       "    <tr>\n",
       "      <th>4048</th>\n",
       "      <td>10632</td>\n",
       "      <td>vou ter que dar um menos no café porque se pá ...</td>\n",
       "      <td>0</td>\n",
       "      <td>0</td>\n",
       "      <td>0</td>\n",
       "      <td>0</td>\n",
       "      <td>0</td>\n",
       "      <td>2019-11-11 11:42:42.000000</td>\n",
       "      <td>2019-11-11</td>\n",
       "      <td>11:42:42</td>\n",
       "    </tr>\n",
       "    <tr>\n",
       "      <th>4049</th>\n",
       "      <td>10633</td>\n",
       "      <td>@lxcxzs irmão lázaro???</td>\n",
       "      <td>0</td>\n",
       "      <td>0</td>\n",
       "      <td>0</td>\n",
       "      <td>0</td>\n",
       "      <td>0</td>\n",
       "      <td>2019-11-05 15:43:28.000000</td>\n",
       "      <td>2019-11-05</td>\n",
       "      <td>15:43:28</td>\n",
       "    </tr>\n",
       "  </tbody>\n",
       "</table>\n",
       "<p>4050 rows × 10 columns</p>\n",
       "</div>"
      ],
      "text/plain": [
       "      id_tweet                                           ds_tweet  \\\n",
       "0         3696  dormi o dia inteiro tinha horas w meu desperta...   \n",
       "1         3885        já entendi que eu não sou importante tá bom   \n",
       "2         3888  chorando pq não sou importante pra ngm 👍🏿 http...   \n",
       "3         3889  Sinto sempre que nao sou importante para certa...   \n",
       "4         8369             Tô indo pra escola com a força do ódio   \n",
       "...        ...                                                ...   \n",
       "4045     10629                                @LUCAztec como ousa   \n",
       "4046     10630  @tatastew aí amiga mas pelo menos ele lembra K...   \n",
       "4047     10631  eu só quero chegar em casa, tomar um banho e m...   \n",
       "4048     10632  vou ter que dar um menos no café porque se pá ...   \n",
       "4049     10633                            @lxcxzs irmão lázaro???   \n",
       "\n",
       "      fisiologico  psiquico  comportamental  target  validado_espec  \\\n",
       "0               1         0               0       1               1   \n",
       "1               0         1               0       3               1   \n",
       "2               0         1               0       3               1   \n",
       "3               0         1               0       3               1   \n",
       "4               0         0               0       0               1   \n",
       "...           ...       ...             ...     ...             ...   \n",
       "4045            0         0               0       0               0   \n",
       "4046            0         0               0       0               0   \n",
       "4047            0         0               0       0               0   \n",
       "4048            0         0               0       0               0   \n",
       "4049            0         0               0       0               0   \n",
       "\n",
       "                        dh_tweet data_postagem hora_postagem  \n",
       "0     2019-10-09 02:32:41.000000    2019-10-09      02:32:41  \n",
       "1     2019-10-12 12:15:04.000000    2019-10-12      12:15:04  \n",
       "2     2019-10-11 23:56:04.000000    2019-10-11      23:56:04  \n",
       "3     2019-10-12 14:43:38.000000    2019-10-12      14:43:38  \n",
       "4     2019-10-11 12:10:22.000000    2019-10-11      12:10:22  \n",
       "...                          ...           ...           ...  \n",
       "4045  2019-11-01 00:58:30.000000    2019-11-01      00:58:30  \n",
       "4046  2019-10-31 17:37:21.000000    2019-10-31      17:37:21  \n",
       "4047  2019-10-31 16:07:31.000000    2019-10-31      16:07:31  \n",
       "4048  2019-11-11 11:42:42.000000    2019-11-11      11:42:42  \n",
       "4049  2019-11-05 15:43:28.000000    2019-11-05      15:43:28  \n",
       "\n",
       "[4050 rows x 10 columns]"
      ]
     },
     "metadata": {},
     "output_type": "display_data"
    }
   ],
   "source": [
    "display(df)"
   ]
  },
  {
   "cell_type": "code",
   "execution_count": 10,
   "metadata": {
    "pycharm": {
     "name": "#%%\n"
    }
   },
   "outputs": [
    {
     "name": "stdout",
     "output_type": "stream",
     "text": [
      "\u001B[35mtotal da classe 0 é: 2180\n",
      "\u001B[35mtotal da classe 1 é: 361\n",
      "\u001B[35mtotal da classe 2 é: 376\n",
      "\u001B[35mtotal da classe 3 é: 1133\n"
     ]
    },
    {
     "data": {
      "image/png": "[encoded data removed]",
      "text/plain": [
       "<Figure size 432x288 with 1 Axes>"
      ]
     },
     "metadata": {
      "needs_background": "dark"
     },
     "output_type": "display_data"
    }
   ],
   "source": [
    "## HISTOGRAMA COM FREQUENCIA DAS CLASSES NA BASE\n",
    "x = df['target']\n",
    "plt.title('FREQUENCIA DAS CLASSES NA BASE')\n",
    "plt.xlabel(\"Classes (0=Nenhum, 1=Fisiológico, 2=Comportamental, 3=Psíquico)\")\n",
    "plt.hist(x, 4, rwidth=0.9, color='red', alpha=0.7, edgecolor='black') ## x corresponde a coluna do dataset que armazena as classes (label/target no caso)\n",
    "# 4 corresponde ao numero de classes, e rwidth ao tamanho das barras\n",
    "\n",
    "\n",
    "## Confirmando os valores do histograma\n",
    "classe = [0,1,2,3]\n",
    "for i in range(len(classe)):\n",
    "    classe_mensagem = \"{}{}{}\".format(\"total da classe \", i, \" é: \") \n",
    "    print(Fore.MAGENTA + \"{}{}\".format(classe_mensagem, len(df[df[\"target\"]==i])))"
   ]
  },
  {
   "cell_type": "code",
   "execution_count": 11,
   "metadata": {
    "pycharm": {
     "name": "#%%\n"
    }
   },
   "outputs": [],
   "source": [
    "def limpar_tweets(text):\n",
    "    text = re.sub(r'@[A-Za-z0-9]+', '', text)# Remove mencoes\n",
    "    text = re.sub(r'@[A-Za-z0-9]_+', '', text)# Remove mencoes\n",
    "    text = re.sub(r'@_[A-Za-z0-9]+', '', text)# Remove mencoes\n",
    "    text = re.sub(r'@_[A-Za-z0-9]_+', '', text)# Remove mencoes\n",
    "    text = re.sub(r'#','', text) # Remove simbolo de hashtags\n",
    "    text = re.sub(r'RT[\\s]+','',text) # Remove Retweets\n",
    "    text = re.sub(r'https?:/\\/\\S+','',text) # Remove URLS\n",
    "\n",
    "    regrex_pattern = re.compile(pattern = \"[\"   #Remove todos os emojis\n",
    "        u\"\\U0001F600-\\U0001F64F\"  # emoticons\n",
    "        u\"\\U0001F300-\\U0001F5FF\"  # symbols & pictographs\n",
    "        u\"\\U0001F680-\\U0001F6FF\"  # transport & map symbols\n",
    "        u\"\\U0001F1E0-\\U0001F1FF\"  # flags (iOS)\n",
    "        u\"\\U00002500-\\U00002BEF\"  # chinese char\n",
    "        u\"\\U00002702-\\U000027B0\"\n",
    "        u\"\\U00002702-\\U000027B0\"\n",
    "        u\"\\U000024C2-\\U0001F251\"\n",
    "        u\"\\U0001f926-\\U0001f937\"\n",
    "        u\"\\U00010000-\\U0010ffff\"\n",
    "        u\"\\u2640-\\u2642\"\n",
    "        u\"\\u2600-\\u2B55\"\n",
    "        u\"\\u200d\"\n",
    "        u\"\\u23cf\"\n",
    "        u\"\\u23e9\"\n",
    "        u\"\\u231a\"\n",
    "        u\"\\ufe0f\"  # dingbats\n",
    "        u\"\\u3030\"\n",
    "                           \"]+\", flags = re.UNICODE)\n",
    "    return regrex_pattern.sub(r'', text)\n",
    "    return text"
   ]
  },
  {
   "cell_type": "code",
   "execution_count": 12,
   "metadata": {
    "pycharm": {
     "name": "#%%\n"
    }
   },
   "outputs": [
    {
     "data": {
      "text/plain": [
       "4050"
      ]
     },
     "execution_count": 12,
     "metadata": {},
     "output_type": "execute_result"
    }
   ],
   "source": [
    "df['tweets'] = df['ds_tweet'].apply(limpar_tweets)\n",
    "df.head()\n",
    "len(df)"
   ]
  },
  {
   "cell_type": "code",
   "execution_count": 72,
   "metadata": {
    "pycharm": {
     "name": "#%%\n"
    }
   },
   "outputs": [
    {
     "data": {
      "text/plain": [
       "4    tô indo pra escola força ódio\n",
       "Name: tweets, dtype: object"
      ]
     },
     "metadata": {},
     "output_type": "display_data"
    }
   ],
   "source": [
    "df = df.drop(df[df['tweets'] == ''].index)\n",
    "len(df.index)"
   ]
  },
  {
   "cell_type": "code",
   "execution_count": null,
   "outputs": [],
   "source": [
    "df['tweets'] = df['tweets'].str.lower()  ## padroniza os tweets transformando de uppercase para lowercase\n",
    "\n",
    "## Verificando se os tweets estao padronizados em lowercase\n",
    "filter = (df['id_tweet'] == 8369)\n",
    "teste = df.loc[filter,'tweets']  \n",
    "display(teste)"
   ],
   "metadata": {
    "collapsed": false,
    "pycharm": {
     "name": "#%%\n"
    }
   }
  },
  {
   "cell_type": "code",
   "execution_count": null,
   "outputs": [],
   "source": [
    "stop = stopwords.words(\"portuguese\")\n",
    "\n",
    "print(stop)"
   ],
   "metadata": {
    "collapsed": false,
    "pycharm": {
     "name": "#%%\n"
    }
   }
  },
  {
   "cell_type": "code",
   "execution_count": null,
   "outputs": [],
   "source": [
    "## removendo os stopwords\n",
    "df[\"tweets\"] = df[\"tweets\"].apply(lambda x: \" \".join(x for x in x.split() if x not in stop))"
   ],
   "metadata": {
    "collapsed": false,
    "pycharm": {
     "name": "#%%\n"
    }
   }
  },
  {
   "cell_type": "code",
   "execution_count": null,
   "outputs": [],
   "source": [
    "display(df[\"tweets\"])"
   ],
   "metadata": {
    "collapsed": false,
    "pycharm": {
     "name": "#%%\n"
    }
   }
  },
  {
   "cell_type": "code",
   "execution_count": null,
   "outputs": [],
   "source": [
    "stemmer = PorterStemmer()\n",
    "w_tokenizer = nltk.tokenize.WhitespaceTokenizer()\n",
    "lemmatizer = nltk.stem.WordNetLemmatizer()\n",
    "\n",
    "def lemmatize_text(text):\n",
    "    lemma_words = [lemmatizer.lemmatize(w) for w in w_tokenizer.tokenize(text)]\n",
    "    return \" \".join(lemma_words)\n",
    "\n",
    "def stemming_text(text):\n",
    "    stemming_words = [stemmer.stem(word) for word in nltk.word_tokenize(text)]\n",
    "    return \" \".join(stemming_words)\n"
   ],
   "metadata": {
    "collapsed": false,
    "pycharm": {
     "name": "#%%\n"
    }
   }
  },
  {
   "cell_type": "code",
   "execution_count": null,
   "outputs": [],
   "source": [
    "df[\"tweets\"] = df[\"tweets\"].apply(lemmatize_text) ## para testar o stemming, basta trocar o nome da funcao no parametro.\n",
    "# df"
   ],
   "metadata": {
    "collapsed": false,
    "pycharm": {
     "name": "#%%\n"
    }
   }
  },
  {
   "cell_type": "code",
   "execution_count": null,
   "outputs": [],
   "source": [
    "# ALGORITMO BAG OF WORDS\n",
    "BagOfWords = CountVectorizer()\n",
    "BagOfWords.fit_transform(df['tweets'])\n",
    "BagOfWords.get_feature_names_out()\n",
    "BagOfWords_result = BagOfWords.transform(df['tweets'])\n"
   ],
   "metadata": {
    "collapsed": false,
    "pycharm": {
     "name": "#%%\n"
    }
   }
  },
  {
   "cell_type": "code",
   "execution_count": null,
   "outputs": [],
   "source": [
    "# print(BagOfWords_result)"
   ],
   "metadata": {
    "collapsed": false,
    "pycharm": {
     "name": "#%%\n"
    }
   }
  },
  {
   "cell_type": "code",
   "execution_count": null,
   "outputs": [],
   "source": [
    "#ALGORITMO TFIDF\n",
    "\n",
    "tfidf_vec = TfidfVectorizer(use_idf=True)\n",
    "tfidf_vec.fit(df['tweets'])\n",
    "tfidf_result = tfidf_vec.transform(df['tweets'])"
   ],
   "metadata": {
    "collapsed": false,
    "pycharm": {
     "name": "#%%\n"
    }
   }
  },
  {
   "cell_type": "code",
   "execution_count": null,
   "outputs": [],
   "source": [
    "# print(tfidf_result)"
   ],
   "metadata": {
    "collapsed": false,
    "pycharm": {
     "name": "#%%\n"
    }
   }
  },
  {
   "cell_type": "code",
   "execution_count": null,
   "outputs": [],
   "source": [
    "#SEPARA OS CONJUNTOS DE TREINAMENTO E TESTE\n",
    "X = BagOfWords_result   #Caso necessite usar outro metodo apenas trocar essa variavel por tfidf_result ou BagOfWords_result\n",
    "y = df['target']\n",
    "X_train, X_test, y_train, y_test = train_test_split(X, y, test_size=0.3, stratify=y, random_state=42)"
   ],
   "metadata": {
    "collapsed": false,
    "pycharm": {
     "name": "#%%\n"
    }
   }
  },
  {
   "cell_type": "code",
   "execution_count": null,
   "outputs": [],
   "source": [
    "### ------------------------ TESTE COM ARVORE DE DECISÃO ------------------------------------------------\n",
    "\n",
    "clf = DecisionTreeClassifier()  ## Instancia o objeto do referido algoritmo. Cria o Modelo.\n",
    "\n",
    "clf.fit(X_train, y_train)  ## apresenta os dados x, y ao modelo\n",
    "\n",
    "y_pred = clf.predict(X_test) ## Efetua as predições.\n",
    "\n",
    "y_pred_prob = clf.predict_proba(X_test)\n",
    "\n",
    "#Acuracidade\n",
    "\n",
    "\n",
    "print(Style.BRIGHT + Fore.RED + \"MATRIZ DE CONFUSAO\" + Style.RESET_ALL)\n",
    "print(\"---------------------- \\n\")\n",
    "print(confusion_matrix(y_test, y_pred))\n",
    "print(\"---------------------- \\n\")    \n",
    "\n",
    "\n",
    "print(Style.BRIGHT + Fore.RED + \"ACURACIDADE\" + Style.RESET_ALL)\n",
    "print(\"---------------------- \\n\")\n",
    "print(accuracy_score(y_test, y_pred))\n",
    "print(\"---------------------- \\n\")    \n",
    "# F1-SCORE\n",
    "\n",
    "# f1 = f1_score(y_test, y_pred,pos_label='positive', average='micro')\n",
    "# print(f1)\n",
    "\n",
    "print(Fore.BLUE +  \"\\n \\n  RELATORIO COM MAIS INFORMACOES\")\n",
    "print(\"\\n \\n \\n \")\n",
    "\n",
    "print(classification_report(y_test, y_pred))\n",
    "print(\"F1 Score : \",f1_score(y_test, y_pred, average=\"macro\"))##Average macro calcula uma média aritmetica entre todos os  f1-scores das classes\n",
    "print(\"Precision Score : \",precision_score(y_test, y_pred,average=\"macro\"))\n",
    "print(\"Recall Score : \",recall_score(y_test, y_pred, \n",
    "                                           average=\"macro\"))\n",
    "\n",
    "\n",
    "\n",
    "\n",
    "sb.heatmap(confusion_matrix(y_test, y_pred), annot=True, cmap='Blues', fmt='g')\n",
    "\n",
    "### ------------------------------------------------------------------------------------------------\n",
    "\n",
    "\n"
   ],
   "metadata": {
    "collapsed": false,
    "pycharm": {
     "name": "#%%\n"
    }
   }
  },
  {
   "cell_type": "code",
   "execution_count": null,
   "outputs": [],
   "source": [
    "fpr = {}\n",
    "tpr = {}\n",
    "thresh ={}\n",
    "\n",
    "n_class = [0,1,2,3]\n",
    "\n",
    "for i in range(len(n_class)):    \n",
    "    fpr[i], tpr[i], thresh[i] = roc_curve(y_test, y_pred_prob[:,i], pos_label=i)\n",
    "    \n",
    "    \n",
    "# plotting  One vs ALL   \n",
    "plt.plot(fpr[0], tpr[0], linestyle='--',color='orange', label='Classe 0 vs Rest')\n",
    "plt.plot(fpr[1], tpr[1], linestyle='--',color='green', label='Classe 1 vs Rest')\n",
    "plt.plot(fpr[2], tpr[2], linestyle='--',color='blue', label='Classe 2 vs Rest')\n",
    "plt.plot(fpr[3], tpr[3], linestyle='--',color='red', label='Classe 3 vs Rest')\n",
    "sb.lineplot(x = [0, 1], y = [0, 1], color = 'green', ax = None)\n",
    "plt.title('Multiclass ROC curve')\n",
    "plt.xlabel('False Positive Rate')\n",
    "plt.ylabel('True Positive rate')\n",
    "plt.legend(loc='best')\n",
    "\n",
    "roc_auc_score(y_test, y_pred_prob, labels = n_class, multi_class = 'ovr', average = 'macro')"
   ],
   "metadata": {
    "collapsed": false,
    "pycharm": {
     "name": "#%%\n"
    }
   }
  },
  {
   "cell_type": "markdown",
   "source": [
    "###### UTILIZAÇÃO DAS FUNÇÕES CRIADAS POR: [Vinícius Trevisan](https://github.com/vinyluis/Articles/tree/main/ROC%20Curve%20and%20ROC%20AUC)"
   ],
   "metadata": {
    "collapsed": false,
    "pycharm": {
     "name": "#%% md\n"
    }
   }
  },
  {
   "cell_type": "markdown",
   "source": [
    "###### Artigos utilizados para estudo do ROC AUC:<br> <br> [Interpreting ROC Curve and ROC AUC for Classification Evaluation](https://towardsdatascience.com/interpreting-roc-curve-and-roc-auc-for-classification-evaluation-28ec3983f077) <br>\n",
    "[Multiclass classification evaluation with ROC Curves and ROC AUC](https://towardsdatascience.com/multiclass-classification-evaluation-with-roc-curves-and-roc-auc-294fd4617e3a)"
   ],
   "metadata": {
    "collapsed": false,
    "pycharm": {
     "name": "#%% md\n"
    }
   }
  },
  {
   "cell_type": "code",
   "execution_count": null,
   "outputs": [],
   "source": [
    "def calculate_tpr_fpr(y_real, y_pred):\n",
    "    '''\n",
    "    Calculates the True Positive Rate (tpr) and the True Negative Rate (fpr) based on real and predicted observations\n",
    "    \n",
    "    Args:\n",
    "        y_real: The list or series with the real classes\n",
    "        y_pred: The list or series with the predicted classes\n",
    "        \n",
    "    Returns:\n",
    "        tpr: The True Positive Rate of the classifier\n",
    "        fpr: The False Positive Rate of the classifier\n",
    "    '''\n",
    "    \n",
    "    # Calculates the confusion matrix and recover each element\n",
    "    cm = confusion_matrix(y_real, y_pred)\n",
    "    TN = cm[0, 0]\n",
    "    FP = cm[0, 1]\n",
    "    FN = cm[1, 0]\n",
    "    TP = cm[1, 1]\n",
    "    \n",
    "    # Calculates tpr and fpr\n",
    "    tpr =  TP/(TP + FN) # sensitivity - true positive rate\n",
    "    fpr = 1 - TN/(TN+FP) # 1-specificity - false positive rate\n",
    "    \n",
    "    return tpr, fpr"
   ],
   "metadata": {
    "collapsed": false,
    "pycharm": {
     "name": "#%%\n"
    }
   }
  },
  {
   "cell_type": "code",
   "execution_count": null,
   "outputs": [],
   "source": [
    "def get_all_roc_coordinates(y_real, y_proba):\n",
    "    '''\n",
    "    Calculates all the ROC Curve coordinates (tpr and fpr) by considering each point as a treshold for the predicion of the class.\n",
    "    \n",
    "    Args:\n",
    "        y_real: The list or series with the real classes.\n",
    "        y_proba: The array with the probabilities for each class, obtained by using the `.predict_proba()` method.\n",
    "        \n",
    "    Returns:\n",
    "        tpr_list: The list of TPRs representing each threshold.\n",
    "        fpr_list: The list of FPRs representing each threshold.\n",
    "    '''\n",
    "    tpr_list = [0]\n",
    "    fpr_list = [0]\n",
    "    for i in range(len(y_proba)):\n",
    "        threshold = y_proba[i]\n",
    "        y_pred = y_proba >= threshold\n",
    "        tpr, fpr = calculate_tpr_fpr(y_real, y_pred)\n",
    "        tpr_list.append(tpr)\n",
    "        fpr_list.append(fpr)\n",
    "    return tpr_list, fpr_list"
   ],
   "metadata": {
    "collapsed": false,
    "pycharm": {
     "name": "#%%\n"
    }
   }
  },
  {
   "cell_type": "code",
   "execution_count": null,
   "outputs": [],
   "source": [
    "def plot_roc_curve(tpr, fpr, scatter = True, ax = None):\n",
    "    '''\n",
    "    Plots the ROC Curve by using the list of coordinates (tpr and fpr).\n",
    "    \n",
    "    Args:\n",
    "        tpr: The list of TPRs representing each coordinate.\n",
    "        fpr: The list of FPRs representing each coordinate.\n",
    "        scatter: When True, the points used on the calculation will be plotted with the line (default = True).\n",
    "    '''\n",
    "    if ax == None:\n",
    "        plt.figure(figsize = (5, 5))\n",
    "        ax = plt.axes()\n",
    "    \n",
    "    if scatter:\n",
    "        sb.scatterplot(x = fpr, y = tpr, ax = ax)\n",
    "    sb.lineplot(x = fpr, y = tpr, ax = ax)\n",
    "    sb.lineplot(x = [0, 1], y = [0, 1], color = 'green', ax = ax)\n",
    "    plt.xlim(-0.05, 1.05)\n",
    "    plt.ylim(-0.05, 1.05)\n",
    "    plt.xlabel(\"False Positive Rate\")\n",
    "    plt.ylabel(\"True Positive Rate\")"
   ],
   "metadata": {
    "collapsed": false,
    "pycharm": {
     "name": "#%%\n"
    }
   }
  },
  {
   "cell_type": "code",
   "execution_count": null,
   "outputs": [],
   "source": [
    "classes = [0,1,2,3]"
   ],
   "metadata": {
    "collapsed": false,
    "pycharm": {
     "name": "#%%\n"
    }
   }
  },
  {
   "cell_type": "code",
   "execution_count": null,
   "outputs": [],
   "source": [
    "# Plots the Probability Distributions and the ROC Curves One vs Rest\n",
    "plt.figure(figsize = (12, 8))\n",
    "bins = [i/20 for i in range(20)] + [1]\n",
    "roc_auc_ovr = {}\n",
    "\n",
    "for i in range(len(classes)):\n",
    "    # Gets the class\n",
    "    c = classes[i]\n",
    "    \n",
    "    # Prepares an auxiliar dataframe to help with the plots\n",
    "    column_names = [\"class\", \"prob\"]\n",
    "    df_aux = pd.DataFrame(columns = column_names)\n",
    "    df_aux['class'] = [1 if y == c else 0 for y in y_test]\n",
    "    df_aux['prob'] = y_pred_prob[:, i]\n",
    "    df_aux = df_aux.reset_index(drop = True)\n",
    "    \n",
    "    # Plots the probability distribution for the class and the rest\n",
    "    ax = plt.subplot(2, 4, i+1)\n",
    "    sb.histplot(x = \"prob\", data = df_aux, hue = 'class', color = 'b', ax = ax, bins = bins)\n",
    "    ax.set_title(c)\n",
    "    ax.legend([f\"Class: {c}\", \"Rest\"])\n",
    "    ax.set_xlabel(f\"P(x = {c})\")\n",
    "    \n",
    "    # Calculates the ROC Coordinates and plots the ROC Curves\n",
    "    ax_bottom = plt.subplot(2, 4, i+5)\n",
    "    tpr, fpr = get_all_roc_coordinates(df_aux['class'], df_aux['prob'])\n",
    "    plot_roc_curve(tpr, fpr, scatter = False, ax = ax_bottom)\n",
    "    ax_bottom.set_title(\"ROC Curve OvR\")\n",
    "    \n",
    "    # Calculates the ROC AUC OvR\n",
    "    roc_auc_ovr[c] = roc_auc_score(df_aux['class'], df_aux['prob'])"
   ],
   "metadata": {
    "collapsed": false,
    "pycharm": {
     "name": "#%%\n"
    }
   }
  },
  {
   "cell_type": "code",
   "execution_count": null,
   "outputs": [],
   "source": [
    "# Exibe a metrica ROC AUC para cada classe\n",
    "avg_roc_auc = 0\n",
    "i = 0\n",
    "for k in roc_auc_ovr:\n",
    "    avg_roc_auc += roc_auc_ovr[k]\n",
    "    i += 1\n",
    "    print(f\"{k} ROC AUC OvR: {roc_auc_ovr[k]:.4f}\")\n",
    "print(f\"average ROC AUC OvR: {avg_roc_auc/i:.4f}\")"
   ],
   "metadata": {
    "collapsed": false,
    "pycharm": {
     "name": "#%%\n"
    }
   }
  },
  {
   "cell_type": "code",
   "execution_count": null,
   "outputs": [],
   "source": [
    "# Comparacao do resultado acima com a funcao do sklearn\n",
    "\n",
    "roc_auc_score(y_test, y_pred_prob, labels = classes, multi_class = 'ovr', average = 'macro')"
   ],
   "metadata": {
    "collapsed": false,
    "pycharm": {
     "name": "#%%\n"
    }
   }
  },
  {
   "cell_type": "code",
   "execution_count": null,
   "outputs": [],
   "source": [
    "classes_combinations = []\n",
    "class_list = list(classes)\n",
    "for i in range(len(class_list)):\n",
    "    for j in range(i+1, len(class_list)):\n",
    "        classes_combinations.append([class_list[i], class_list[j]])\n",
    "        classes_combinations.append([class_list[j], class_list[i]])\n",
    "classes_combinations"
   ],
   "metadata": {
    "collapsed": false,
    "pycharm": {
     "name": "#%%\n"
    }
   }
  },
  {
   "cell_type": "code",
   "execution_count": null,
   "outputs": [],
   "source": [
    "# Plots the Probability Distributions and the ROC Curves One vs ONe\n",
    "plt.figure(figsize = (20, 7))\n",
    "bins = [i/20 for i in range(20)] + [1]\n",
    "roc_auc_ovo = {}\n",
    "\n",
    "for i in range(len(classes_combinations)):\n",
    "    # Gets the class\n",
    "    comb = classes_combinations[i]\n",
    "    c1 = comb[0]\n",
    "    c2 = comb[1]\n",
    "    c1_index = class_list.index(c1)\n",
    "    title = str(c1) + \" vs \" + str(c2)\n",
    "    \n",
    "    # Prepares an auxiliar dataframe to help with the plots\n",
    "    column_names = [\"class\", \"prob\"]\n",
    "    df_aux = pd.DataFrame(columns = column_names)\n",
    "    df_aux['class'] = y_test\n",
    "    df_aux['prob'] = y_pred_prob[:, c1_index]\n",
    "    \n",
    "    # Slices only the subset with both classes\n",
    "    df_aux = df_aux[(df_aux['class'] == c1) | (df_aux['class'] == c2)]\n",
    "    df_aux['class'] = [1 if y == c1 else 0 for y in df_aux['class']]\n",
    "    df_aux = df_aux.reset_index(drop = True)\n",
    "    \n",
    "    # Plots the probability distribution for the class and the rest\n",
    "    ax = plt.subplot(4, 6, i+1)\n",
    "    sb.histplot(x = \"prob\", data = df_aux, hue = 'class', color = 'b', ax = ax, bins = bins)\n",
    "    ax.set_title(title)\n",
    "    ax.legend([f\"Class 1: {c1}\", f\"Class 0: {c2}\"])\n",
    "    ax.set_xlabel(f\"P(x = {c1})\")\n",
    "    \n",
    "    # Calculates the ROC Coordinates and plots the ROC Curves\n",
    "    ax_bottom = plt.subplot(4, 6, i+13)\n",
    "    tpr, fpr = get_all_roc_coordinates(df_aux['class'], df_aux['prob'])\n",
    "    plot_roc_curve(tpr, fpr, scatter = False, ax = ax_bottom)\n",
    "    ax_bottom.set_title(\"ROC Curve OvO\")\n",
    "    \n",
    "    # Calculates the ROC AUC OvO\n",
    "    roc_auc_ovo[title] = roc_auc_score(df_aux['class'], df_aux['prob'])\n",
    "    \n",
    "plt.tight_layout()"
   ],
   "metadata": {
    "collapsed": false,
    "pycharm": {
     "name": "#%%\n"
    }
   }
  },
  {
   "cell_type": "code",
   "execution_count": null,
   "outputs": [],
   "source": [
    "# Exibe a metrica ROC AUC para cada classe\n",
    "avg_roc_auc = 0\n",
    "i = 0\n",
    "for k in roc_auc_ovo:\n",
    "    avg_roc_auc += roc_auc_ovo[k]\n",
    "    i += 1\n",
    "    print(f\"{k} ROC AUC OvO: {roc_auc_ovo[k]:.4f}\")\n",
    "print(f\"average ROC AUC OvO: {avg_roc_auc/i:.4f}\")"
   ],
   "metadata": {
    "collapsed": false,
    "pycharm": {
     "name": "#%%\n"
    }
   }
  },
  {
   "cell_type": "code",
   "execution_count": null,
   "outputs": [],
   "source": [
    "# Comparacao do resultado acima com a funcao do sklearn\n",
    "roc_auc_score(y_test, y_pred_prob, labels = classes, multi_class = 'ovo', average = 'macro')"
   ],
   "metadata": {
    "collapsed": false,
    "pycharm": {
     "name": "#%%\n"
    }
   }
  },
  {
   "cell_type": "code",
   "execution_count": null,
   "outputs": [],
   "source": [
    "### TESTE COM ENSEMBLE RANDOM FOREST\n",
    "\n",
    "rnd_mdl = RandomForestClassifier()\n",
    "rnd_mdl.fit(X_train, y_train)\n",
    "\n",
    "\n",
    "y_pred = rnd_mdl.predict(X_test)\n",
    "\n",
    "#Acuracidade\n",
    "\n",
    "\n",
    "print(Style.BRIGHT + Fore.RED + \"MATRIZ DE CONFUSAO\" + Style.RESET_ALL)\n",
    "print(\"---------------------- \\n\")\n",
    "print(confusion_matrix(y_test, y_pred))\n",
    "print(\"---------------------- \\n\")    \n",
    "\n",
    "\n",
    "print(Style.BRIGHT + Fore.RED + \"ACURACIDADE\" + Style.RESET_ALL)\n",
    "print(\"---------------------- \\n\")\n",
    "print(accuracy_score(y_test, y_pred))\n",
    "print(\"---------------------- \\n\")    \n",
    "\n",
    "\n",
    "print(Fore.BLUE +  \"\\n \\n  RELATORIO COM MAIS INFORMACOES\")\n",
    "print(\"\\n \\n \\n \")\n",
    "\n",
    "print(classification_report(y_test, y_pred))\n",
    "print(\"F1 Score : \",f1_score(y_test, y_pred, average=\"macro\"))\n",
    "print(\"Precision Score : \",precision_score(y_test, y_pred, \n",
    "                                           average=\"macro\"))\n",
    "print(\"Recall Score : \",recall_score(y_test, y_pred, \n",
    "                                           average=\"macro\"))\n",
    "\n",
    "sb.heatmap(confusion_matrix(y_test, y_pred), annot=True, cmap='Blues', fmt='g')\n",
    "\n",
    "### ------------------------------------------------------------------------------------------------"
   ],
   "metadata": {
    "collapsed": false,
    "pycharm": {
     "name": "#%%\n"
    }
   }
  },
  {
   "cell_type": "code",
   "execution_count": null,
   "outputs": [],
   "source": [
    "# TESTE COM KNN\n",
    "knn = KNeighborsClassifier(3)\n",
    "\n",
    "X = BagOfWords_result\n",
    "y = df['target']\n",
    "X_train, X_test, y_train, y_test = train_test_split(X, y, test_size=0.3, stratify=y, random_state=42)\n",
    "\n",
    "knn.fit(X_train, y_train)\n",
    "\n",
    "y_pred = knn.predict(X_test)\n",
    "\n",
    "\n",
    "\n",
    "\n",
    "#Acuracidade\n",
    "\n",
    "\n",
    "print(Style.BRIGHT + Fore.RED + \"MATRIZ DE CONFUSAO\" + Style.RESET_ALL)\n",
    "print(\"---------------------- \\n\")\n",
    "print(confusion_matrix(y_test, y_pred))\n",
    "print(\"---------------------- \\n\")    \n",
    "\n",
    "\n",
    "print(Style.BRIGHT + Fore.RED + \"ACURACIDADE\" + Style.RESET_ALL)\n",
    "print(\"---------------------- \\n\")\n",
    "print(accuracy_score(y_test, y_pred))\n",
    "print(\"---------------------- \\n\")    \n",
    "\n",
    "\n",
    "print(Fore.BLUE +  \"\\n \\n  RELATORIO COM MAIS INFORMACOES\")\n",
    "print(\"\\n \\n \\n \")\n",
    "\n",
    "print(classification_report(y_test, y_pred))\n",
    "print(\"F1 Score : \",f1_score(y_test, y_pred, average=\"macro\"))\n",
    "print(\"Precision Score : \",precision_score(y_test, y_pred, \n",
    "                                           average=\"macro\"))\n",
    "print(\"Recall Score : \",recall_score(y_test, y_pred, \n",
    "                                           average=\"macro\"))\n",
    "\n",
    "sb.heatmap(confusion_matrix(y_test, y_pred), annot=True, cmap='Blues', fmt='g')\n",
    "\n",
    "### ------------------------------------------------------------------------------------------------"
   ],
   "metadata": {
    "collapsed": false,
    "pycharm": {
     "name": "#%%\n"
    }
   }
  },
  {
   "cell_type": "code",
   "execution_count": null,
   "outputs": [],
   "source": [
    "## TESTE COM REGRESSÃO LOGISTICA\n",
    "lr = LogisticRegression()\n",
    "\n",
    "\n",
    "lr.fit(X_train, y_train)                  # Emprega o conjunto de treinamento \n",
    "\n",
    "y_pred = lr.predict(X_test)\n",
    "\n",
    "\n",
    "\n",
    "#Acuracidade\n",
    "\n",
    "\n",
    "print(Style.BRIGHT + Fore.RED + \"MATRIZ DE CONFUSAO\" + Style.RESET_ALL)\n",
    "print(\"---------------------- \\n\")\n",
    "print(confusion_matrix(y_test, y_pred))\n",
    "print(\"---------------------- \\n\")    \n",
    "\n",
    "\n",
    "print(Style.BRIGHT + Fore.RED + \"ACURACIDADE\" + Style.RESET_ALL)\n",
    "print(\"---------------------- \\n\")\n",
    "print(accuracy_score(y_test, y_pred))\n",
    "print(\"---------------------- \\n\")    \n",
    "\n",
    "\n",
    "print(Fore.BLUE +  \"\\n \\n  RELATORIO COM MAIS INFORMACOES\")\n",
    "print(\"\\n \\n \\n \")\n",
    "\n",
    "print(classification_report(y_test, y_pred))\n",
    "print(\"F1 Score : \",f1_score(y_test, y_pred, average=\"macro\"))\n",
    "print(\"Precision Score : \",precision_score(y_test, y_pred, \n",
    "                                           average=\"macro\"))\n",
    "print(\"Recall Score : \",recall_score(y_test, y_pred, \n",
    "                                           average=\"macro\"))\n",
    "\n",
    "sb.heatmap(confusion_matrix(y_test, y_pred), annot=True, cmap='Blues', fmt='g')\n",
    "\n",
    "### ------------------------------------------------------------------------------------------------"
   ],
   "metadata": {
    "collapsed": false,
    "pycharm": {
     "name": "#%%\n"
    }
   }
  },
  {
   "cell_type": "code",
   "execution_count": null,
   "metadata": {
    "pycharm": {
     "name": "#%%\n"
    }
   },
   "outputs": [],
   "source": [
    "## TESTE COM REGRESSÃO LOGISTICA\n",
    "lr = LogisticRegression()\n",
    "\n",
    "\n",
    "lr.fit(X_train, y_train)                  # Emprega o conjunto de treinamento \n",
    "\n",
    "y_pred = lr.predict(X_test)\n",
    "\n",
    "\n",
    "\n",
    "#Acuracidade\n",
    "\n",
    "\n",
    "print(Style.BRIGHT + Fore.RED + \"MATRIZ DE CONFUSAO\" + Style.RESET_ALL)\n",
    "print(\"---------------------- \\n\")\n",
    "print(confusion_matrix(y_test, y_pred))\n",
    "print(\"---------------------- \\n\")    \n",
    "\n",
    "\n",
    "print(Style.BRIGHT + Fore.RED + \"ACURACIDADE\" + Style.RESET_ALL)\n",
    "print(\"---------------------- \\n\")\n",
    "print(accuracy_score(y_test, y_pred))\n",
    "print(\"---------------------- \\n\")    \n",
    "\n",
    "\n",
    "print(Fore.BLUE +  \"\\n \\n  RELATORIO COM MAIS INFORMACOES\")\n",
    "print(\"\\n \\n \\n \")\n",
    "\n",
    "print(classification_report(y_test, y_pred))\n",
    "print(\"F1 Score : \",f1_score(y_test, y_pred, average=\"macro\"))\n",
    "print(\"Precision Score : \",precision_score(y_test, y_pred, \n",
    "                                           average=\"macro\"))\n",
    "print(\"Recall Score : \",recall_score(y_test, y_pred, \n",
    "                                           average=\"macro\"))\n",
    "\n",
    "sb.heatmap(confusion_matrix(y_test, y_pred), annot=True, cmap='Blues', fmt='g')\n",
    "\n",
    "### ------------------------------------------------------------------------------------------------"
   ]
  }
 ],
 "metadata": {
  "kernelspec": {
   "display_name": "Python 3 (ipykernel)",
   "language": "python",
   "name": "python3"
  },
  "language_info": {
   "codemirror_mode": {
    "name": "ipython",
    "version": 3
   },
   "file_extension": ".py",
   "mimetype": "text/x-python",
   "name": "python",
   "nbconvert_exporter": "python",
   "pygments_lexer": "ipython3",
   "version": "3.10.5"
  }
 },
 "nbformat": 4,
 "nbformat_minor": 4
}