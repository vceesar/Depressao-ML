{
 "cells": [
  {
   "cell_type": "code",
   "execution_count": 31,
   "metadata": {
    "pycharm": {
     "name": "#%%\n"
    }
   },
   "outputs": [],
   "source": [
    "import tweepy as tw\n",
    "import pandas as pd\n",
    "import configparser as cp\n",
    "from textblob import TextBlob\n",
    "import re\n",
    "import json\n",
    "import numpy as np\n",
    "import nltk\n",
    "import sklearn \n",
    "import seaborn as sb\n",
    "from nltk.corpus import stopwords\n",
    "from nltk.stem import PorterStemmer\n",
    "from sklearn.model_selection import train_test_split\n",
    "from sklearn.feature_extraction.text import CountVectorizer\n",
    "from sklearn.feature_extraction.text import TfidfVectorizer\n",
    "#ALGORITMOS SELECIONADOS ATÉ O MOMENTO\n",
    "from sklearn.ensemble import RandomForestClassifier\n",
    "from sklearn.tree import DecisionTreeClassifier\n",
    "from sklearn.neighbors import KNeighborsClassifier\n",
    "from sklearn.linear_model import LogisticRegression\n",
    "#-----------------------------------------\n",
    "from sklearn.metrics import classification_report\n",
    "from sklearn.metrics import f1_score\n",
    "from sklearn.metrics import confusion_matrix\n",
    "from sklearn.metrics import accuracy_score\n",
    "from sklearn.metrics import precision_score\n",
    "from sklearn.metrics import recall_score\n",
    "\n",
    "## mudar thema do notebook !jt -t solarizedd -T -N -kl\n"
   ]
  },
  {
   "cell_type": "code",
   "execution_count": null,
   "metadata": {
    "pycharm": {
     "name": "#%%\n"
    }
   },
   "outputs": [],
   "source": [
    "# nltk.download()"
   ]
  },
  {
   "cell_type": "code",
   "execution_count": 10,
   "metadata": {
    "pycharm": {
     "name": "#%%\n"
    }
   },
   "outputs": [],
   "source": [
    "config = cp.ConfigParser()\n",
    "config.read('config.ini')\n",
    "api_key = config['twitter_credenciais']['api_key']\n",
    "api_key_secret = config['twitter_credenciais']['api_key_secret']\n",
    "access_token = config['twitter_credenciais']['access_token']\n",
    "access_token_secret = config['twitter_credenciais']['access_token_secret']"
   ]
  },
  {
   "cell_type": "code",
   "execution_count": 11,
   "metadata": {
    "pycharm": {
     "name": "#%%\n"
    }
   },
   "outputs": [],
   "source": [
    "auth = tw.OAuthHandler(api_key,api_key_secret)\n",
    "auth.set_access_token(access_token,access_token_secret)\n",
    "api = tw.API(auth)"
   ]
  },
  {
   "cell_type": "code",
   "execution_count": 12,
   "metadata": {
    "pycharm": {
     "name": "#%%\n"
    }
   },
   "outputs": [],
   "source": [
    "df = pd.read_csv('dataset_depressao.csv')"
   ]
  },
  {
   "cell_type": "code",
   "execution_count": 13,
   "metadata": {
    "pycharm": {
     "name": "#%%\n"
    }
   },
   "outputs": [
    {
     "data": {
      "text/html": [
       "<div>\n",
       "<style scoped>\n",
       "    .dataframe tbody tr th:only-of-type {\n",
       "        vertical-align: middle;\n",
       "    }\n",
       "\n",
       "    .dataframe tbody tr th {\n",
       "        vertical-align: top;\n",
       "    }\n",
       "\n",
       "    .dataframe thead th {\n",
       "        text-align: right;\n",
       "    }\n",
       "</style>\n",
       "<table border=\"1\" class=\"dataframe\">\n",
       "  <thead>\n",
       "    <tr style=\"text-align: right;\">\n",
       "      <th></th>\n",
       "      <th>id_tweet</th>\n",
       "      <th>ds_tweet</th>\n",
       "      <th>fisiologico</th>\n",
       "      <th>psiquico</th>\n",
       "      <th>comportamental</th>\n",
       "      <th>label</th>\n",
       "      <th>validado_espec</th>\n",
       "      <th>dh_tweet</th>\n",
       "    </tr>\n",
       "  </thead>\n",
       "  <tbody>\n",
       "    <tr>\n",
       "      <th>0</th>\n",
       "      <td>3696</td>\n",
       "      <td>dormi o dia inteiro tinha horas w meu desperta...</td>\n",
       "      <td>1</td>\n",
       "      <td>1</td>\n",
       "      <td>0</td>\n",
       "      <td>1</td>\n",
       "      <td>1</td>\n",
       "      <td>2019-10-09 02:32:41.000000</td>\n",
       "    </tr>\n",
       "    <tr>\n",
       "      <th>1</th>\n",
       "      <td>3885</td>\n",
       "      <td>já entendi que eu não sou importante tá bom</td>\n",
       "      <td>0</td>\n",
       "      <td>1</td>\n",
       "      <td>0</td>\n",
       "      <td>3</td>\n",
       "      <td>1</td>\n",
       "      <td>2019-10-12 12:15:04.000000</td>\n",
       "    </tr>\n",
       "    <tr>\n",
       "      <th>2</th>\n",
       "      <td>3888</td>\n",
       "      <td>chorando pq não sou importante pra ngm 👍🏿 http...</td>\n",
       "      <td>0</td>\n",
       "      <td>1</td>\n",
       "      <td>0</td>\n",
       "      <td>3</td>\n",
       "      <td>1</td>\n",
       "      <td>2019-10-11 23:56:04.000000</td>\n",
       "    </tr>\n",
       "    <tr>\n",
       "      <th>3</th>\n",
       "      <td>3889</td>\n",
       "      <td>Sinto sempre que nao sou importante para certa...</td>\n",
       "      <td>0</td>\n",
       "      <td>1</td>\n",
       "      <td>0</td>\n",
       "      <td>3</td>\n",
       "      <td>1</td>\n",
       "      <td>2019-10-12 14:43:38.000000</td>\n",
       "    </tr>\n",
       "    <tr>\n",
       "      <th>4</th>\n",
       "      <td>8369</td>\n",
       "      <td>Tô indo pra escola com a força do ódio</td>\n",
       "      <td>0</td>\n",
       "      <td>0</td>\n",
       "      <td>0</td>\n",
       "      <td>0</td>\n",
       "      <td>1</td>\n",
       "      <td>2019-10-11 12:10:22.000000</td>\n",
       "    </tr>\n",
       "    <tr>\n",
       "      <th>...</th>\n",
       "      <td>...</td>\n",
       "      <td>...</td>\n",
       "      <td>...</td>\n",
       "      <td>...</td>\n",
       "      <td>...</td>\n",
       "      <td>...</td>\n",
       "      <td>...</td>\n",
       "      <td>...</td>\n",
       "    </tr>\n",
       "    <tr>\n",
       "      <th>4045</th>\n",
       "      <td>10629</td>\n",
       "      <td>@LUCAztec como ousa</td>\n",
       "      <td>0</td>\n",
       "      <td>0</td>\n",
       "      <td>0</td>\n",
       "      <td>0</td>\n",
       "      <td>0</td>\n",
       "      <td>2019-11-01 00:58:30.000000</td>\n",
       "    </tr>\n",
       "    <tr>\n",
       "      <th>4046</th>\n",
       "      <td>10630</td>\n",
       "      <td>@tatastew aí amiga mas pelo menos ele lembra K...</td>\n",
       "      <td>0</td>\n",
       "      <td>0</td>\n",
       "      <td>0</td>\n",
       "      <td>0</td>\n",
       "      <td>0</td>\n",
       "      <td>2019-10-31 17:37:21.000000</td>\n",
       "    </tr>\n",
       "    <tr>\n",
       "      <th>4047</th>\n",
       "      <td>10631</td>\n",
       "      <td>eu só quero chegar em casa, tomar um banho e m...</td>\n",
       "      <td>0</td>\n",
       "      <td>0</td>\n",
       "      <td>0</td>\n",
       "      <td>0</td>\n",
       "      <td>0</td>\n",
       "      <td>2019-10-31 16:07:31.000000</td>\n",
       "    </tr>\n",
       "    <tr>\n",
       "      <th>4048</th>\n",
       "      <td>10632</td>\n",
       "      <td>vou ter que dar um menos no café porque se pá ...</td>\n",
       "      <td>0</td>\n",
       "      <td>0</td>\n",
       "      <td>0</td>\n",
       "      <td>0</td>\n",
       "      <td>0</td>\n",
       "      <td>2019-11-11 11:42:42.000000</td>\n",
       "    </tr>\n",
       "    <tr>\n",
       "      <th>4049</th>\n",
       "      <td>10633</td>\n",
       "      <td>@lxcxzs irmão lázaro???</td>\n",
       "      <td>0</td>\n",
       "      <td>0</td>\n",
       "      <td>0</td>\n",
       "      <td>0</td>\n",
       "      <td>0</td>\n",
       "      <td>2019-11-05 15:43:28.000000</td>\n",
       "    </tr>\n",
       "  </tbody>\n",
       "</table>\n",
       "<p>4050 rows × 8 columns</p>\n",
       "</div>"
      ],
      "text/plain": [
       "      id_tweet                                           ds_tweet  \\\n",
       "0         3696  dormi o dia inteiro tinha horas w meu desperta...   \n",
       "1         3885        já entendi que eu não sou importante tá bom   \n",
       "2         3888  chorando pq não sou importante pra ngm 👍🏿 http...   \n",
       "3         3889  Sinto sempre que nao sou importante para certa...   \n",
       "4         8369             Tô indo pra escola com a força do ódio   \n",
       "...        ...                                                ...   \n",
       "4045     10629                                @LUCAztec como ousa   \n",
       "4046     10630  @tatastew aí amiga mas pelo menos ele lembra K...   \n",
       "4047     10631  eu só quero chegar em casa, tomar um banho e m...   \n",
       "4048     10632  vou ter que dar um menos no café porque se pá ...   \n",
       "4049     10633                            @lxcxzs irmão lázaro???   \n",
       "\n",
       "      fisiologico  psiquico  comportamental  label  validado_espec  \\\n",
       "0               1         1               0      1               1   \n",
       "1               0         1               0      3               1   \n",
       "2               0         1               0      3               1   \n",
       "3               0         1               0      3               1   \n",
       "4               0         0               0      0               1   \n",
       "...           ...       ...             ...    ...             ...   \n",
       "4045            0         0               0      0               0   \n",
       "4046            0         0               0      0               0   \n",
       "4047            0         0               0      0               0   \n",
       "4048            0         0               0      0               0   \n",
       "4049            0         0               0      0               0   \n",
       "\n",
       "                        dh_tweet  \n",
       "0     2019-10-09 02:32:41.000000  \n",
       "1     2019-10-12 12:15:04.000000  \n",
       "2     2019-10-11 23:56:04.000000  \n",
       "3     2019-10-12 14:43:38.000000  \n",
       "4     2019-10-11 12:10:22.000000  \n",
       "...                          ...  \n",
       "4045  2019-11-01 00:58:30.000000  \n",
       "4046  2019-10-31 17:37:21.000000  \n",
       "4047  2019-10-31 16:07:31.000000  \n",
       "4048  2019-11-11 11:42:42.000000  \n",
       "4049  2019-11-05 15:43:28.000000  \n",
       "\n",
       "[4050 rows x 8 columns]"
      ]
     },
     "metadata": {},
     "output_type": "display_data"
    }
   ],
   "source": [
    "display(df)"
   ]
  },
  {
   "cell_type": "code",
   "execution_count": 14,
   "metadata": {
    "pycharm": {
     "name": "#%%\n"
    }
   },
   "outputs": [],
   "source": [
    "df['data_postagem'] = pd.to_datetime(df['dh_tweet']).dt.date\n",
    "df['hora_postagem'] = pd.to_datetime(df['dh_tweet']).dt.time"
   ]
  },
  {
   "cell_type": "code",
   "execution_count": 15,
   "metadata": {
    "pycharm": {
     "name": "#%%\n"
    }
   },
   "outputs": [],
   "source": [
    "def limpar_tweets(text):\n",
    "    text = re.sub(r'@[A-Za-z0-9]+', '', text)\n",
    "    text = re.sub(r'@[A-Za-z0-9]_+', '', text)\n",
    "    text = re.sub(r'@_[A-Za-z0-9]+', '', text)\n",
    "    text = re.sub(r'@_[A-Za-z0-9]_+', '', text)# Remove mencoes\n",
    "    text = re.sub(r'#','', text) # Remove simbolo de hashtags\n",
    "    text = re.sub(r'RT[\\s]+','',text) # Remove Retweets\n",
    "    text = re.sub(r'https?:/\\/\\S+','',text) # Remove URLS\n",
    "\n",
    "    regrex_pattern = re.compile(pattern = \"[\"   #Remove todos os emojis\n",
    "        u\"\\U0001F600-\\U0001F64F\"  # emoticons\n",
    "        u\"\\U0001F300-\\U0001F5FF\"  # symbols & pictographs\n",
    "        u\"\\U0001F680-\\U0001F6FF\"  # transport & map symbols\n",
    "        u\"\\U0001F1E0-\\U0001F1FF\"  # flags (iOS)\n",
    "        u\"\\U00002500-\\U00002BEF\"  # chinese char\n",
    "        u\"\\U00002702-\\U000027B0\"\n",
    "        u\"\\U00002702-\\U000027B0\"\n",
    "        u\"\\U000024C2-\\U0001F251\"\n",
    "        u\"\\U0001f926-\\U0001f937\"\n",
    "        u\"\\U00010000-\\U0010ffff\"\n",
    "        u\"\\u2640-\\u2642\"\n",
    "        u\"\\u2600-\\u2B55\"\n",
    "        u\"\\u200d\"\n",
    "        u\"\\u23cf\"\n",
    "        u\"\\u23e9\"\n",
    "        u\"\\u231a\"\n",
    "        u\"\\ufe0f\"  # dingbats\n",
    "        u\"\\u3030\"\n",
    "                           \"]+\", flags = re.UNICODE)\n",
    "    return regrex_pattern.sub(r'', text)\n",
    "    return text"
   ]
  },
  {
   "cell_type": "code",
   "execution_count": 16,
   "metadata": {
    "pycharm": {
     "name": "#%%\n"
    }
   },
   "outputs": [
    {
     "data": {
      "text/plain": [
       "4050"
      ]
     },
     "execution_count": 16,
     "metadata": {},
     "output_type": "execute_result"
    }
   ],
   "source": [
    "df['tweets'] = df['ds_tweet'].apply(limpar_tweets)\n",
    "df.head()\n",
    "len(df)"
   ]
  },
  {
   "cell_type": "code",
   "execution_count": 17,
   "metadata": {
    "pycharm": {
     "name": "#%%\n"
    }
   },
   "outputs": [
    {
     "data": {
      "text/plain": [
       "4049"
      ]
     },
     "execution_count": 17,
     "metadata": {},
     "output_type": "execute_result"
    }
   ],
   "source": [
    "df = df.drop(df[df['tweets'] == ''].index)\n",
    "len(df.index)"
   ]
  },
  {
   "cell_type": "code",
   "execution_count": 18,
   "metadata": {
    "pycharm": {
     "name": "#%%\n"
    }
   },
   "outputs": [
    {
     "name": "stdout",
     "output_type": "stream",
     "text": [
      "showing info https://raw.githubusercontent.com/nltk/nltk_data/gh-pages/index.xml\n"
     ]
    },
    {
     "data": {
      "text/plain": [
       "True"
      ]
     },
     "execution_count": 18,
     "metadata": {},
     "output_type": "execute_result"
    }
   ],
   "source": [
    "nltk.download()"
   ]
  },
  {
   "cell_type": "code",
   "execution_count": 19,
   "metadata": {
    "pycharm": {
     "name": "#%%\n"
    }
   },
   "outputs": [
    {
     "name": "stdout",
     "output_type": "stream",
     "text": [
      "['a', 'à', 'ao', 'aos', 'aquela', 'aquelas', 'aquele', 'aqueles', 'aquilo', 'as', 'às', 'até', 'com', 'como', 'da', 'das', 'de', 'dela', 'delas', 'dele', 'deles', 'depois', 'do', 'dos', 'e', 'é', 'ela', 'elas', 'ele', 'eles', 'em', 'entre', 'era', 'eram', 'éramos', 'essa', 'essas', 'esse', 'esses', 'esta', 'está', 'estamos', 'estão', 'estar', 'estas', 'estava', 'estavam', 'estávamos', 'este', 'esteja', 'estejam', 'estejamos', 'estes', 'esteve', 'estive', 'estivemos', 'estiver', 'estivera', 'estiveram', 'estivéramos', 'estiverem', 'estivermos', 'estivesse', 'estivessem', 'estivéssemos', 'estou', 'eu', 'foi', 'fomos', 'for', 'fora', 'foram', 'fôramos', 'forem', 'formos', 'fosse', 'fossem', 'fôssemos', 'fui', 'há', 'haja', 'hajam', 'hajamos', 'hão', 'havemos', 'haver', 'hei', 'houve', 'houvemos', 'houver', 'houvera', 'houverá', 'houveram', 'houvéramos', 'houverão', 'houverei', 'houverem', 'houveremos', 'houveria', 'houveriam', 'houveríamos', 'houvermos', 'houvesse', 'houvessem', 'houvéssemos', 'isso', 'isto', 'já', 'lhe', 'lhes', 'mais', 'mas', 'me', 'mesmo', 'meu', 'meus', 'minha', 'minhas', 'muito', 'na', 'não', 'nas', 'nem', 'no', 'nos', 'nós', 'nossa', 'nossas', 'nosso', 'nossos', 'num', 'numa', 'o', 'os', 'ou', 'para', 'pela', 'pelas', 'pelo', 'pelos', 'por', 'qual', 'quando', 'que', 'quem', 'são', 'se', 'seja', 'sejam', 'sejamos', 'sem', 'ser', 'será', 'serão', 'serei', 'seremos', 'seria', 'seriam', 'seríamos', 'seu', 'seus', 'só', 'somos', 'sou', 'sua', 'suas', 'também', 'te', 'tem', 'tém', 'temos', 'tenha', 'tenham', 'tenhamos', 'tenho', 'terá', 'terão', 'terei', 'teremos', 'teria', 'teriam', 'teríamos', 'teu', 'teus', 'teve', 'tinha', 'tinham', 'tínhamos', 'tive', 'tivemos', 'tiver', 'tivera', 'tiveram', 'tivéramos', 'tiverem', 'tivermos', 'tivesse', 'tivessem', 'tivéssemos', 'tu', 'tua', 'tuas', 'um', 'uma', 'você', 'vocês', 'vos']\n"
     ]
    }
   ],
   "source": [
    "stop = stopwords.words(\"portuguese\")\n",
    "\n",
    "print(stop)"
   ]
  },
  {
   "cell_type": "code",
   "execution_count": 20,
   "metadata": {
    "pycharm": {
     "name": "#%%\n"
    }
   },
   "outputs": [],
   "source": [
    "## removendo os stopwords\n",
    "df[\"tweets\"] = df[\"tweets\"].apply(lambda x: \" \".join(x for x in x.split() if x not in stop))"
   ]
  },
  {
   "cell_type": "code",
   "execution_count": 21,
   "metadata": {
    "pycharm": {
     "name": "#%%\n"
    }
   },
   "outputs": [
    {
     "data": {
      "text/plain": [
       "0       dormi dia inteiro horas w despertafor tocava a...\n",
       "1                               entendi importante tá bom\n",
       "2                          chorando pq importante pra ngm\n",
       "3       Sinto sempre nao importante certas pessoas man...\n",
       "4                           Tô indo pra escola força ódio\n",
       "                              ...                        \n",
       "4045                                                 ousa\n",
       "4046    aí amiga menos lembra KKKKKKK lucas noia carai...\n",
       "4047           quero chegar casa, tomar banho enfiar cama\n",
       "4048    vou ter dar menos café porque pá quantidade an...\n",
       "4049                                      irmão lázaro???\n",
       "Name: tweets, Length: 4049, dtype: object"
      ]
     },
     "metadata": {},
     "output_type": "display_data"
    }
   ],
   "source": [
    "display(df[\"tweets\"])"
   ]
  },
  {
   "cell_type": "code",
   "execution_count": 22,
   "metadata": {
    "pycharm": {
     "name": "#%%\n"
    }
   },
   "outputs": [],
   "source": [
    "porter = PorterStemmer()\n",
    "w_tokenizer = nltk.tokenize.WhitespaceTokenizer()\n",
    "lemmatizer = nltk.stem.WordNetLemmatizer()\n",
    "def lemmatize_text(text):\n",
    "    lemma_words = [lemmatizer.lemmatize(w) for w in w_tokenizer.tokenize(text)]\n",
    "    return \" \".join(lemma_words)\n"
   ]
  },
  {
   "cell_type": "code",
   "execution_count": 23,
   "metadata": {
    "pycharm": {
     "name": "#%%\n"
    }
   },
   "outputs": [
    {
     "data": {
      "text/html": [
       "<div>\n",
       "<style scoped>\n",
       "    .dataframe tbody tr th:only-of-type {\n",
       "        vertical-align: middle;\n",
       "    }\n",
       "\n",
       "    .dataframe tbody tr th {\n",
       "        vertical-align: top;\n",
       "    }\n",
       "\n",
       "    .dataframe thead th {\n",
       "        text-align: right;\n",
       "    }\n",
       "</style>\n",
       "<table border=\"1\" class=\"dataframe\">\n",
       "  <thead>\n",
       "    <tr style=\"text-align: right;\">\n",
       "      <th></th>\n",
       "      <th>id_tweet</th>\n",
       "      <th>ds_tweet</th>\n",
       "      <th>fisiologico</th>\n",
       "      <th>psiquico</th>\n",
       "      <th>comportamental</th>\n",
       "      <th>label</th>\n",
       "      <th>validado_espec</th>\n",
       "      <th>dh_tweet</th>\n",
       "      <th>data_postagem</th>\n",
       "      <th>hora_postagem</th>\n",
       "      <th>tweets</th>\n",
       "    </tr>\n",
       "  </thead>\n",
       "  <tbody>\n",
       "    <tr>\n",
       "      <th>0</th>\n",
       "      <td>3696</td>\n",
       "      <td>dormi o dia inteiro tinha horas w meu desperta...</td>\n",
       "      <td>1</td>\n",
       "      <td>1</td>\n",
       "      <td>0</td>\n",
       "      <td>1</td>\n",
       "      <td>1</td>\n",
       "      <td>2019-10-09 02:32:41.000000</td>\n",
       "      <td>2019-10-09</td>\n",
       "      <td>02:32:41</td>\n",
       "      <td>dormi dia inteiro horas w despertafor tocava a...</td>\n",
       "    </tr>\n",
       "    <tr>\n",
       "      <th>1</th>\n",
       "      <td>3885</td>\n",
       "      <td>já entendi que eu não sou importante tá bom</td>\n",
       "      <td>0</td>\n",
       "      <td>1</td>\n",
       "      <td>0</td>\n",
       "      <td>3</td>\n",
       "      <td>1</td>\n",
       "      <td>2019-10-12 12:15:04.000000</td>\n",
       "      <td>2019-10-12</td>\n",
       "      <td>12:15:04</td>\n",
       "      <td>entendi importante tá bom</td>\n",
       "    </tr>\n",
       "    <tr>\n",
       "      <th>2</th>\n",
       "      <td>3888</td>\n",
       "      <td>chorando pq não sou importante pra ngm 👍🏿 http...</td>\n",
       "      <td>0</td>\n",
       "      <td>1</td>\n",
       "      <td>0</td>\n",
       "      <td>3</td>\n",
       "      <td>1</td>\n",
       "      <td>2019-10-11 23:56:04.000000</td>\n",
       "      <td>2019-10-11</td>\n",
       "      <td>23:56:04</td>\n",
       "      <td>chorando pq importante pra ngm</td>\n",
       "    </tr>\n",
       "    <tr>\n",
       "      <th>3</th>\n",
       "      <td>3889</td>\n",
       "      <td>Sinto sempre que nao sou importante para certa...</td>\n",
       "      <td>0</td>\n",
       "      <td>1</td>\n",
       "      <td>0</td>\n",
       "      <td>3</td>\n",
       "      <td>1</td>\n",
       "      <td>2019-10-12 14:43:38.000000</td>\n",
       "      <td>2019-10-12</td>\n",
       "      <td>14:43:38</td>\n",
       "      <td>Sinto sempre nao importante certas pessoas man...</td>\n",
       "    </tr>\n",
       "    <tr>\n",
       "      <th>4</th>\n",
       "      <td>8369</td>\n",
       "      <td>Tô indo pra escola com a força do ódio</td>\n",
       "      <td>0</td>\n",
       "      <td>0</td>\n",
       "      <td>0</td>\n",
       "      <td>0</td>\n",
       "      <td>1</td>\n",
       "      <td>2019-10-11 12:10:22.000000</td>\n",
       "      <td>2019-10-11</td>\n",
       "      <td>12:10:22</td>\n",
       "      <td>Tô indo pra escola força ódio</td>\n",
       "    </tr>\n",
       "    <tr>\n",
       "      <th>...</th>\n",
       "      <td>...</td>\n",
       "      <td>...</td>\n",
       "      <td>...</td>\n",
       "      <td>...</td>\n",
       "      <td>...</td>\n",
       "      <td>...</td>\n",
       "      <td>...</td>\n",
       "      <td>...</td>\n",
       "      <td>...</td>\n",
       "      <td>...</td>\n",
       "      <td>...</td>\n",
       "    </tr>\n",
       "    <tr>\n",
       "      <th>4045</th>\n",
       "      <td>10629</td>\n",
       "      <td>@LUCAztec como ousa</td>\n",
       "      <td>0</td>\n",
       "      <td>0</td>\n",
       "      <td>0</td>\n",
       "      <td>0</td>\n",
       "      <td>0</td>\n",
       "      <td>2019-11-01 00:58:30.000000</td>\n",
       "      <td>2019-11-01</td>\n",
       "      <td>00:58:30</td>\n",
       "      <td>ousa</td>\n",
       "    </tr>\n",
       "    <tr>\n",
       "      <th>4046</th>\n",
       "      <td>10630</td>\n",
       "      <td>@tatastew aí amiga mas pelo menos ele lembra K...</td>\n",
       "      <td>0</td>\n",
       "      <td>0</td>\n",
       "      <td>0</td>\n",
       "      <td>0</td>\n",
       "      <td>0</td>\n",
       "      <td>2019-10-31 17:37:21.000000</td>\n",
       "      <td>2019-10-31</td>\n",
       "      <td>17:37:21</td>\n",
       "      <td>aí amiga menos lembra KKKKKKK lucas noia carai...</td>\n",
       "    </tr>\n",
       "    <tr>\n",
       "      <th>4047</th>\n",
       "      <td>10631</td>\n",
       "      <td>eu só quero chegar em casa, tomar um banho e m...</td>\n",
       "      <td>0</td>\n",
       "      <td>0</td>\n",
       "      <td>0</td>\n",
       "      <td>0</td>\n",
       "      <td>0</td>\n",
       "      <td>2019-10-31 16:07:31.000000</td>\n",
       "      <td>2019-10-31</td>\n",
       "      <td>16:07:31</td>\n",
       "      <td>quero chegar casa, tomar banho enfiar cama</td>\n",
       "    </tr>\n",
       "    <tr>\n",
       "      <th>4048</th>\n",
       "      <td>10632</td>\n",
       "      <td>vou ter que dar um menos no café porque se pá ...</td>\n",
       "      <td>0</td>\n",
       "      <td>0</td>\n",
       "      <td>0</td>\n",
       "      <td>0</td>\n",
       "      <td>0</td>\n",
       "      <td>2019-11-11 11:42:42.000000</td>\n",
       "      <td>2019-11-11</td>\n",
       "      <td>11:42:42</td>\n",
       "      <td>vou ter dar menos café porque pá quantidade an...</td>\n",
       "    </tr>\n",
       "    <tr>\n",
       "      <th>4049</th>\n",
       "      <td>10633</td>\n",
       "      <td>@lxcxzs irmão lázaro???</td>\n",
       "      <td>0</td>\n",
       "      <td>0</td>\n",
       "      <td>0</td>\n",
       "      <td>0</td>\n",
       "      <td>0</td>\n",
       "      <td>2019-11-05 15:43:28.000000</td>\n",
       "      <td>2019-11-05</td>\n",
       "      <td>15:43:28</td>\n",
       "      <td>irmão lázaro???</td>\n",
       "    </tr>\n",
       "  </tbody>\n",
       "</table>\n",
       "<p>4049 rows × 11 columns</p>\n",
       "</div>"
      ],
      "text/plain": [
       "      id_tweet                                           ds_tweet  \\\n",
       "0         3696  dormi o dia inteiro tinha horas w meu desperta...   \n",
       "1         3885        já entendi que eu não sou importante tá bom   \n",
       "2         3888  chorando pq não sou importante pra ngm 👍🏿 http...   \n",
       "3         3889  Sinto sempre que nao sou importante para certa...   \n",
       "4         8369             Tô indo pra escola com a força do ódio   \n",
       "...        ...                                                ...   \n",
       "4045     10629                                @LUCAztec como ousa   \n",
       "4046     10630  @tatastew aí amiga mas pelo menos ele lembra K...   \n",
       "4047     10631  eu só quero chegar em casa, tomar um banho e m...   \n",
       "4048     10632  vou ter que dar um menos no café porque se pá ...   \n",
       "4049     10633                            @lxcxzs irmão lázaro???   \n",
       "\n",
       "      fisiologico  psiquico  comportamental  label  validado_espec  \\\n",
       "0               1         1               0      1               1   \n",
       "1               0         1               0      3               1   \n",
       "2               0         1               0      3               1   \n",
       "3               0         1               0      3               1   \n",
       "4               0         0               0      0               1   \n",
       "...           ...       ...             ...    ...             ...   \n",
       "4045            0         0               0      0               0   \n",
       "4046            0         0               0      0               0   \n",
       "4047            0         0               0      0               0   \n",
       "4048            0         0               0      0               0   \n",
       "4049            0         0               0      0               0   \n",
       "\n",
       "                        dh_tweet data_postagem hora_postagem  \\\n",
       "0     2019-10-09 02:32:41.000000    2019-10-09      02:32:41   \n",
       "1     2019-10-12 12:15:04.000000    2019-10-12      12:15:04   \n",
       "2     2019-10-11 23:56:04.000000    2019-10-11      23:56:04   \n",
       "3     2019-10-12 14:43:38.000000    2019-10-12      14:43:38   \n",
       "4     2019-10-11 12:10:22.000000    2019-10-11      12:10:22   \n",
       "...                          ...           ...           ...   \n",
       "4045  2019-11-01 00:58:30.000000    2019-11-01      00:58:30   \n",
       "4046  2019-10-31 17:37:21.000000    2019-10-31      17:37:21   \n",
       "4047  2019-10-31 16:07:31.000000    2019-10-31      16:07:31   \n",
       "4048  2019-11-11 11:42:42.000000    2019-11-11      11:42:42   \n",
       "4049  2019-11-05 15:43:28.000000    2019-11-05      15:43:28   \n",
       "\n",
       "                                                 tweets  \n",
       "0     dormi dia inteiro horas w despertafor tocava a...  \n",
       "1                             entendi importante tá bom  \n",
       "2                        chorando pq importante pra ngm  \n",
       "3     Sinto sempre nao importante certas pessoas man...  \n",
       "4                         Tô indo pra escola força ódio  \n",
       "...                                                 ...  \n",
       "4045                                               ousa  \n",
       "4046  aí amiga menos lembra KKKKKKK lucas noia carai...  \n",
       "4047         quero chegar casa, tomar banho enfiar cama  \n",
       "4048  vou ter dar menos café porque pá quantidade an...  \n",
       "4049                                    irmão lázaro???  \n",
       "\n",
       "[4049 rows x 11 columns]"
      ]
     },
     "execution_count": 23,
     "metadata": {},
     "output_type": "execute_result"
    }
   ],
   "source": [
    "df[\"tweets\"] = df[\"tweets\"].apply(lemmatize_text)\n",
    "df"
   ]
  },
  {
   "cell_type": "code",
   "execution_count": 24,
   "metadata": {
    "pycharm": {
     "name": "#%%\n"
    }
   },
   "outputs": [],
   "source": [
    "BagOfWords = CountVectorizer()\n",
    "BagOfWords.fit_transform(df['tweets'])\n",
    "BagOfWords.get_feature_names_out()\n",
    "BagOfWords_result = BagOfWords.transform(df['tweets'])\n",
    "\n",
    "\n",
    "\n",
    "# tfidf_vec = TfidfVectorizer(use_idf=True)\n",
    "\n",
    "#                     tfidf_vec.fit(input_df[‘text’])\n",
    "\n",
    "#                     tfidf_result = tfidf_vec.transform(input_df[‘text’])\n",
    "\n",
    " "
   ]
  },
  {
   "cell_type": "code",
   "execution_count": 25,
   "metadata": {
    "pycharm": {
     "name": "#%%\n"
    }
   },
   "outputs": [
    {
     "name": "stdout",
     "output_type": "stream",
     "text": [
      "  (0, 415)\t1\n",
      "  (0, 427)\t1\n",
      "  (0, 1446)\t1\n",
      "  (0, 2087)\t1\n",
      "  (0, 2207)\t1\n",
      "  (0, 2253)\t1\n",
      "  (0, 2394)\t1\n",
      "  (0, 3496)\t1\n",
      "  (0, 3737)\t1\n",
      "  (0, 4019)\t1\n",
      "  (0, 5172)\t1\n",
      "  (0, 5258)\t1\n",
      "  (0, 6084)\t1\n",
      "  (0, 6455)\t1\n",
      "  (0, 6600)\t1\n",
      "  (0, 6741)\t1\n",
      "  (0, 6746)\t1\n",
      "  (0, 6792)\t1\n",
      "  (0, 6869)\t1\n",
      "  (1, 1070)\t1\n",
      "  (1, 2607)\t1\n",
      "  (1, 3600)\t1\n",
      "  (1, 6904)\t1\n",
      "  (2, 1453)\t1\n",
      "  (2, 3600)\t1\n",
      "  :\t:\n",
      "  (4045, 4386)\t1\n",
      "  (4045, 4776)\t1\n",
      "  (4046, 932)\t1\n",
      "  (4046, 1224)\t1\n",
      "  (4046, 1324)\t1\n",
      "  (4046, 1428)\t1\n",
      "  (4046, 2559)\t1\n",
      "  (4046, 5772)\t1\n",
      "  (4046, 6761)\t1\n",
      "  (4047, 579)\t1\n",
      "  (4047, 613)\t1\n",
      "  (4047, 1197)\t1\n",
      "  (4047, 1870)\t1\n",
      "  (4047, 1964)\t1\n",
      "  (4047, 4386)\t1\n",
      "  (4047, 5301)\t1\n",
      "  (4047, 5394)\t1\n",
      "  (4047, 5691)\t1\n",
      "  (4047, 5725)\t1\n",
      "  (4047, 6661)\t1\n",
      "  (4047, 6759)\t1\n",
      "  (4047, 6904)\t1\n",
      "  (4047, 7158)\t1\n",
      "  (4048, 3792)\t1\n",
      "  (4048, 4172)\t1\n"
     ]
    }
   ],
   "source": [
    "print(BagOfWords_result)"
   ]
  },
  {
   "cell_type": "code",
   "execution_count": 26,
   "metadata": {
    "pycharm": {
     "name": "#%%\n"
    }
   },
   "outputs": [],
   "source": [
    "tfidf_vec = TfidfVectorizer(use_idf=True)\n",
    "tfidf_vec.fit(df['tweets'])\n",
    "tfidf_result = tfidf_vec.transform(df['tweets'])"
   ]
  },
  {
   "cell_type": "code",
   "execution_count": 27,
   "metadata": {
    "pycharm": {
     "name": "#%%\n"
    }
   },
   "outputs": [
    {
     "name": "stdout",
     "output_type": "stream",
     "text": [
      "  (0, 6869)\t0.26722233709340937\n",
      "  (0, 6792)\t0.2172906601406706\n",
      "  (0, 6746)\t0.2546430678732349\n",
      "  (0, 6741)\t0.10900257539343003\n",
      "  (0, 6600)\t0.22421353155573318\n",
      "  (0, 6455)\t0.26722233709340937\n",
      "  (0, 6084)\t0.26722233709340937\n",
      "  (0, 5258)\t0.2546430678732349\n",
      "  (0, 5172)\t0.26722233709340937\n",
      "  (0, 4019)\t0.23879506290950872\n",
      "  (0, 3737)\t0.2172906601406706\n",
      "  (0, 3496)\t0.18025005699480498\n",
      "  (0, 2394)\t0.19578625737183256\n",
      "  (0, 2253)\t0.11347129534024074\n",
      "  (0, 2207)\t0.26722233709340937\n",
      "  (0, 2087)\t0.21433372898381753\n",
      "  (0, 1446)\t0.26722233709340937\n",
      "  (0, 427)\t0.26722233709340937\n",
      "  (0, 415)\t0.16497132112637164\n",
      "  (1, 6904)\t0.35831074043865085\n",
      "  (1, 3600)\t0.5698963096767653\n",
      "  (1, 2607)\t0.6198971366564264\n",
      "  (1, 1070)\t0.40318624662589114\n",
      "  (2, 5457)\t0.24320594432960788\n",
      "  (2, 5453)\t0.333410981372364\n",
      "  :\t:\n",
      "  (4045, 885)\t0.2436842968820007\n",
      "  (4045, 541)\t0.2998614284331625\n",
      "  (4046, 6761)\t0.35629808660685175\n",
      "  (4046, 5772)\t0.23439078429594262\n",
      "  (4046, 2559)\t0.5359733894186064\n",
      "  (4046, 1428)\t0.3975201443878147\n",
      "  (4046, 1324)\t0.27965330699369273\n",
      "  (4046, 1224)\t0.36364290084058354\n",
      "  (4046, 932)\t0.40296496487187106\n",
      "  (4047, 7158)\t0.15859462444001526\n",
      "  (4047, 6904)\t0.18447169019999224\n",
      "  (4047, 6759)\t0.2863091039415687\n",
      "  (4047, 6661)\t0.18301211355769104\n",
      "  (4047, 5725)\t0.34858370636199026\n",
      "  (4047, 5691)\t0.34858370636199026\n",
      "  (4047, 5394)\t0.22065446281142315\n",
      "  (4047, 5301)\t0.3363659925315957\n",
      "  (4047, 4386)\t0.2396515891402198\n",
      "  (4047, 1964)\t0.23083324909850347\n",
      "  (4047, 1870)\t0.32688919743685824\n",
      "  (4047, 1197)\t0.270192369380807\n",
      "  (4047, 613)\t0.23857635448924316\n",
      "  (4047, 579)\t0.270192369380807\n",
      "  (4048, 4172)\t0.8183807657437153\n",
      "  (4048, 3792)\t0.5746763630607492\n"
     ]
    }
   ],
   "source": [
    "print(tfidf_result)"
   ]
  },
  {
   "cell_type": "code",
   "execution_count": 28,
   "metadata": {
    "pycharm": {
     "name": "#%%\n"
    }
   },
   "outputs": [],
   "source": [
    "#SEPARA OS CONJUNTOS DE TREINAMENTO E TESTE\n",
    "X = BagOfWords_result   #Caso necessite usar o metodo TFIDF apenas trocar essa variavel por tfidf_result\n",
    "y = df['label']\n",
    "X_train, X_test, y_train, y_test = train_test_split(X, y, test_size=0.3, stratify=y, random_state=42)"
   ]
  },
  {
   "cell_type": "code",
   "execution_count": 65,
   "metadata": {
    "pycharm": {
     "name": "#%%\n"
    }
   },
   "outputs": [
    {
     "name": "stdout",
     "output_type": "stream",
     "text": [
      "MATRIZ DE CONFUSAO\n",
      "[[551  17  10  76]\n",
      " [ 10  85   5   8]\n",
      " [  4   2  87  20]\n",
      " [ 67   7  18 248]]\n",
      "ACURACIDADE\n",
      "0.7991769547325103\n",
      "              precision    recall  f1-score   support\n",
      "\n",
      "           0       0.87      0.84      0.86       654\n",
      "           1       0.77      0.79      0.78       108\n",
      "           2       0.72      0.77      0.75       113\n",
      "           3       0.70      0.73      0.72       340\n",
      "\n",
      "    accuracy                           0.80      1215\n",
      "   macro avg       0.77      0.78      0.77      1215\n",
      "weighted avg       0.80      0.80      0.80      1215\n",
      "\n",
      "F1 Score :  [0.85692068 0.77625571 0.74678112 0.71676301]\n",
      "Precision Score :  [0.87183544 0.76576577 0.725      0.70454545]\n",
      "Recall Score :  [0.84250765 0.78703704 0.7699115  0.72941176]\n"
     ]
    }
   ],
   "source": [
    "### TESTE COM ARVORE DE DECISÃO\n",
    "clf = DecisionTreeClassifier()\n",
    "\n",
    "clf.fit(X_train, y_train)\n",
    "\n",
    "y_pred = clf.predict(X_test)\n",
    "\n",
    "\n",
    "#Acuracidade\n",
    "\n",
    "\n",
    "print(\"MATRIZ DE CONFUSAO\")\n",
    "print(confusion_matrix(y_test, y_pred))\n",
    "    \n",
    "print(\"ACURACIDADE\")\n",
    "print(accuracy_score(y_test, y_pred))\n",
    "\n",
    "# F1-SCORE\n",
    "\n",
    "# f1 = f1_score(y_test, y_pred,pos_label='positive', average='micro')\n",
    "# print(f1)\n",
    "\n",
    "print(classification_report(y_test, y_pred))\n",
    "print(\"F1 Score : \",f1_score(y_test, y_pred, average=None))\n",
    "print(\"Precision Score : \",precision_score(y_test, y_pred, \n",
    "                                           average=None))\n",
    "print(\"Recall Score : \",recall_score(y_test, y_pred, \n",
    "                                           average=None))"
   ]
  },
  {
   "cell_type": "code",
   "execution_count": 66,
   "metadata": {},
   "outputs": [
    {
     "data": {
      "text/plain": [
       "<AxesSubplot:>"
      ]
     },
     "execution_count": 66,
     "metadata": {},
     "output_type": "execute_result"
    },
    {
     "data": {
      "image/png": "[encoded data removed]",
      "text/plain": [
       "<Figure size 432x288 with 2 Axes>"
      ]
     },
     "metadata": {
      "needs_background": "light"
     },
     "output_type": "display_data"
    }
   ],
   "source": [
    "sb.heatmap(confusion_matrix(y_test, y_pred), annot=True, cmap='Blues', fmt='g')"
   ]
  },
  {
   "cell_type": "code",
   "execution_count": 67,
   "metadata": {
    "pycharm": {
     "name": "#%%\n"
    }
   },
   "outputs": [
    {
     "name": "stdout",
     "output_type": "stream",
     "text": [
      "MATRIZ DE CONFUSAO\n",
      "[[544  23  12  75]\n",
      " [ 11  85   0  12]\n",
      " [  7   2  92  12]\n",
      " [ 48   2   9 281]]\n",
      "ACURACIDADE\n",
      "0.8246913580246914\n",
      "              precision    recall  f1-score   support\n",
      "\n",
      "           0       0.89      0.83      0.86       654\n",
      "           1       0.76      0.79      0.77       108\n",
      "           2       0.81      0.81      0.81       113\n",
      "           3       0.74      0.83      0.78       340\n",
      "\n",
      "    accuracy                           0.82      1215\n",
      "   macro avg       0.80      0.81      0.81      1215\n",
      "weighted avg       0.83      0.82      0.83      1215\n",
      "\n",
      "F1 Score :  [0.86075949 0.77272727 0.81415929 0.78055556]\n",
      "Precision Score :  [0.89180328 0.75892857 0.81415929 0.73947368]\n",
      "Recall Score :  [0.83180428 0.78703704 0.81415929 0.82647059]\n"
     ]
    }
   ],
   "source": [
    "### TESTE COM ENSEMBLE RANDOM FOREST\n",
    "\n",
    "rnd_mdl = RandomForestClassifier()\n",
    "rnd_mdl.fit(X_train, y_train)\n",
    "#Using the fitted model to predict from the test data\n",
    "\n",
    "#test_df is the test data and tfidf_result_test is the preprocessed test text data\n",
    "\n",
    "y_pred = rnd_mdl.predict(X_test)\n",
    "\n",
    "#Acuracidade \n",
    "cm = confusion_matrix(y_test, y_pred)\n",
    "print(\"MATRIZ DE CONFUSAO\")\n",
    "print(cm)\n",
    "    \n",
    "accuracy = accuracy_score(y_test, y_pred)\n",
    "print(\"ACURACIDADE\")\n",
    "print(accuracy)\n",
    "\n",
    "#F1-SCORE\n",
    "\n",
    "#f1 = f1_score(y_test, y_pred)\n",
    "\n",
    "print(classification_report(y_test, y_pred))\n",
    "print(\"F1 Score : \",f1_score(y_test, y_pred, average=None))\n",
    "print(\"Precision Score : \",precision_score(y_test, y_pred, \n",
    "                                           average=None))\n",
    "print(\"Recall Score : \",recall_score(y_test, y_pred, \n",
    "                                           average=None))\n"
   ]
  },
  {
   "cell_type": "code",
   "execution_count": 68,
   "metadata": {},
   "outputs": [
    {
     "data": {
      "text/plain": [
       "<AxesSubplot:>"
      ]
     },
     "execution_count": 68,
     "metadata": {},
     "output_type": "execute_result"
    },
    {
     "data": {
      "image/png": "[encoded data removed]",
      "text/plain": [
       "<Figure size 432x288 with 2 Axes>"
      ]
     },
     "metadata": {
      "needs_background": "light"
     },
     "output_type": "display_data"
    }
   ],
   "source": [
    "sb.heatmap(confusion_matrix(y_test, y_pred), annot=True, cmap='Blues', fmt='g')"
   ]
  },
  {
   "cell_type": "code",
   "execution_count": 69,
   "metadata": {
    "pycharm": {
     "name": "#%%\n"
    }
   },
   "outputs": [
    {
     "name": "stdout",
     "output_type": "stream",
     "text": [
      "[1 0 0 ... 3 2 0]\n",
      "MATRIZ DE CONFUSAO\n",
      "[[552  21  12  69]\n",
      " [ 37  60   0  11]\n",
      " [ 29   4  67  13]\n",
      " [111   5  11 213]]\n",
      "ACURACIDADE\n",
      "0.7341563786008231\n",
      "              precision    recall  f1-score   support\n",
      "\n",
      "           0       0.76      0.84      0.80       654\n",
      "           1       0.67      0.56      0.61       108\n",
      "           2       0.74      0.59      0.66       113\n",
      "           3       0.70      0.63      0.66       340\n",
      "\n",
      "    accuracy                           0.73      1215\n",
      "   macro avg       0.72      0.65      0.68      1215\n",
      "weighted avg       0.73      0.73      0.73      1215\n",
      "\n",
      "F1 Score :  [0.79826464 0.60606061 0.66009852 0.65944272]\n",
      "Precision Score :  [0.75720165 0.66666667 0.74444444 0.69607843]\n",
      "Recall Score :  [0.8440367  0.55555556 0.59292035 0.62647059]\n"
     ]
    }
   ],
   "source": [
    "# TESTE COM KNN\n",
    "knn = KNeighborsClassifier(3)\n",
    "\n",
    "X = BagOfWords_result\n",
    "y = df['label']\n",
    "X_train, X_test, y_train, y_test = train_test_split(X, y, test_size=0.3, stratify=y, random_state=42)\n",
    "\n",
    "knn.fit(X_train, y_train)\n",
    "\n",
    "y_pred = knn.predict(X_test)\n",
    "\n",
    "\n",
    "print(y_pred)\n",
    "\n",
    "#Acuracidade\n",
    "\n",
    "cm = confusion_matrix(y_test, y_pred)\n",
    "print(\"MATRIZ DE CONFUSAO\")\n",
    "print(cm)\n",
    "    \n",
    "accuracy = accuracy_score(y_test, y_pred)\n",
    "print(\"ACURACIDADE\")\n",
    "print(accuracy)\n",
    "\n",
    "#F1-SCORE\n",
    "\n",
    "#f1 = f1_score(y_test, y_pred)\n",
    "\n",
    "print(classification_report(y_test, y_pred))\n",
    "print(\"F1 Score : \",f1_score(y_test, y_pred, average=None))\n",
    "print(\"Precision Score : \",precision_score(y_test, y_pred, \n",
    "                                           average=None))\n",
    "print(\"Recall Score : \",recall_score(y_test, y_pred, \n",
    "                                           average=None))"
   ]
  },
  {
   "cell_type": "code",
   "execution_count": 70,
   "metadata": {},
   "outputs": [
    {
     "data": {
      "text/plain": [
       "<AxesSubplot:>"
      ]
     },
     "execution_count": 70,
     "metadata": {},
     "output_type": "execute_result"
    },
    {
     "data": {
      "image/png": "[encoded data removed]",
      "text/plain": [
       "<Figure size 432x288 with 2 Axes>"
      ]
     },
     "metadata": {
      "needs_background": "light"
     },
     "output_type": "display_data"
    }
   ],
   "source": [
    "sb.heatmap(confusion_matrix(y_test, y_pred), annot=True, cmap='Blues', fmt='g')"
   ]
  },
  {
   "cell_type": "code",
   "execution_count": 71,
   "metadata": {
    "pycharm": {
     "name": "#%%\n"
    }
   },
   "outputs": [
    {
     "name": "stdout",
     "output_type": "stream",
     "text": [
      "[1 0 0 ... 1 2 0]\n",
      "MATRIZ DE CONFUSAO\n",
      "[[588   9   7  50]\n",
      " [ 23  78   0   7]\n",
      " [ 18   2  75  18]\n",
      " [ 80   3  10 247]]\n",
      "ACURACIDADE\n",
      "0.8131687242798354\n",
      "              precision    recall  f1-score   support\n",
      "\n",
      "           0       0.83      0.90      0.86       654\n",
      "           1       0.85      0.72      0.78       108\n",
      "           2       0.82      0.66      0.73       113\n",
      "           3       0.77      0.73      0.75       340\n",
      "\n",
      "    accuracy                           0.81      1215\n",
      "   macro avg       0.81      0.75      0.78      1215\n",
      "weighted avg       0.81      0.81      0.81      1215\n",
      "\n",
      "F1 Score :  [0.86280264 0.78       0.73170732 0.74622356]\n",
      "Precision Score :  [0.82933709 0.84782609 0.81521739 0.76708075]\n",
      "Recall Score :  [0.89908257 0.72222222 0.66371681 0.72647059]\n"
     ]
    }
   ],
   "source": [
    "## TESTE COM REGRESSÃO LOGISTICA\n",
    "lr = LogisticRegression()\n",
    "\n",
    "\n",
    "lr.fit(X_train, y_train)                  # Emprega o conjunto de treinamento \n",
    "\n",
    "y_pred = lr.predict(X_test)\n",
    "\n",
    "print(y_pred)\n",
    "\n",
    "cm = confusion_matrix(y_test, y_pred)\n",
    "print(\"MATRIZ DE CONFUSAO\")\n",
    "print(cm)\n",
    "    \n",
    "accuracy = accuracy_score(y_test, y_pred)\n",
    "print(\"ACURACIDADE\")\n",
    "print(accuracy)\n",
    "\n",
    "#F1-SCORE\n",
    "\n",
    "#f1 = f1_score(y_test, y_pred)\n",
    "\n",
    "\n",
    "print(classification_report(y_test, y_pred))\n",
    "print(\"F1 Score : \",f1_score(y_test, y_pred, average=None))\n",
    "print(\"Precision Score : \",precision_score(y_test, y_pred, \n",
    "                                           average=None))\n",
    "print(\"Recall Score : \",recall_score(y_test, y_pred, \n",
    "                                           average=None))"
   ]
  },
  {
   "cell_type": "code",
   "execution_count": 72,
   "metadata": {},
   "outputs": [
    {
     "data": {
      "text/plain": [
       "<AxesSubplot:>"
      ]
     },
     "execution_count": 72,
     "metadata": {},
     "output_type": "execute_result"
    },
    {
     "data": {
      "image/png": "[encoded data removed]",
      "text/plain": [
       "<Figure size 432x288 with 2 Axes>"
      ]
     },
     "metadata": {
      "needs_background": "light"
     },
     "output_type": "display_data"
    }
   ],
   "source": [
    "sb.heatmap(confusion_matrix(y_test, y_pred), annot=True, cmap='Blues', fmt='g')"
   ]
  },
  {
   "cell_type": "code",
   "execution_count": null,
   "metadata": {},
   "outputs": [],
   "source": []
  }
 ],
 "metadata": {
  "kernelspec": {
   "display_name": "Python 3 (ipykernel)",
   "language": "python",
   "name": "python3"
  },
  "language_info": {
   "codemirror_mode": {
    "name": "ipython",
    "version": 3
   },
   "file_extension": ".py",
   "mimetype": "text/x-python",
   "name": "python",
   "nbconvert_exporter": "python",
   "pygments_lexer": "ipython3",
   "version": "3.10.5"
  }
 },
 "nbformat": 4,
 "nbformat_minor": 4
}
