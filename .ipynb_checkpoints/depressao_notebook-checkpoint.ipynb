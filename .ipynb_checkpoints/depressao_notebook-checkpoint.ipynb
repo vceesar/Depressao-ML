{
 "cells": [
  {
   "cell_type": "markdown",
   "metadata": {},
   "source": [
    "# **Para instalar todas as bibliotecas de uma vez, basta rodar no terminal o comando:** <br>  pip install -r requirements.txt"
   ]
  },
  {
   "cell_type": "code",
   "execution_count": 1,
   "metadata": {
    "pycharm": {
     "name": "#%%\n"
    }
   },
   "outputs": [],
   "source": [
    "import tweepy as tw\n",
    "import pandas as pd\n",
    "import configparser as cp\n",
    "from textblob import TextBlob\n",
    "import re\n",
    "import json\n",
    "import numpy as np\n",
    "import nltk\n",
    "import sklearn \n",
    "import seaborn as sb\n",
    "import matplotlib.pyplot as plt\n",
    "from colorama import Fore,Style,Back\n",
    "from nltk.corpus import stopwords\n",
    "from nltk.stem import PorterStemmer\n",
    "from sklearn.model_selection import train_test_split\n",
    "from sklearn.feature_extraction.text import CountVectorizer\n",
    "from sklearn.feature_extraction.text import TfidfVectorizer\n",
    "#ALGORITMOS SELECIONADOS ATÉ O MOMENTO\n",
    "from sklearn.ensemble import RandomForestClassifier\n",
    "from sklearn.tree import DecisionTreeClassifier\n",
    "from sklearn.neighbors import KNeighborsClassifier\n",
    "from sklearn.linear_model import LogisticRegression\n",
    "#-----------------------------------------\n",
    "from sklearn.metrics import classification_report\n",
    "from sklearn.metrics import f1_score\n",
    "from sklearn.metrics import confusion_matrix\n",
    "from sklearn.metrics import accuracy_score\n",
    "from sklearn.metrics import precision_score\n",
    "from sklearn.metrics import recall_score\n",
    "from sklearn.metrics import roc_curve\n",
    "from sklearn.metrics import roc_auc_score\n",
    "\n",
    "np.random.seed(1914)  ## IMPORTANTE PARA TER OS MESMOS RESULTADOS NA HORA QUE RODAR. \n",
    "\n",
    "\n",
    "\n",
    "## mudar thema do notebook jt -t solarizedd -T -N -kl\n",
    "# Resetar thema jt -r\n",
    "from jupyterthemes import jtplot\n",
    "jtplot.style(theme='onedork')"
   ]
  },
  {
   "cell_type": "code",
   "execution_count": 2,
   "metadata": {
    "pycharm": {
     "name": "#%%\n"
    }
   },
   "outputs": [],
   "source": [
    "# nltk.download()"
   ]
  },
  {
   "cell_type": "code",
   "execution_count": 3,
   "metadata": {
    "pycharm": {
     "name": "#%%\n"
    }
   },
   "outputs": [],
   "source": [
    "# config = cp.ConfigParser()\n",
    "# config.read('config.ini')\n",
    "# api_key = config['twitter_credenciais']['api_key']\n",
    "# api_key_secret = config['twitter_credenciais']['api_key_secret']\n",
    "# access_token = config['twitter_credenciais']['access_token']\n",
    "# access_token_secret = config['twitter_credenciais']['access_token_secret']"
   ]
  },
  {
   "cell_type": "code",
   "execution_count": 4,
   "metadata": {
    "pycharm": {
     "name": "#%%\n"
    }
   },
   "outputs": [],
   "source": [
    "# auth = tw.OAuthHandler(api_key,api_key_secret)\n",
    "# auth.set_access_token(access_token,access_token_secret)\n",
    "# api = tw.API(auth)"
   ]
  },
  {
   "cell_type": "code",
   "execution_count": 5,
   "metadata": {
    "pycharm": {
     "name": "#%%\n"
    }
   },
   "outputs": [],
   "source": [
    "df = pd.read_csv('dataset_depressao.csv')\n",
    "filter = (df['id_tweet'] == 3696)\n",
    "df.loc[filter,'psiquico'] = 0 "
   ]
  },
  {
   "cell_type": "code",
   "execution_count": 6,
   "metadata": {
    "pycharm": {
     "name": "#%%\n"
    }
   },
   "outputs": [],
   "source": [
    "df.rename(columns = {'label':'target'}, inplace = True)"
   ]
  },
  {
   "cell_type": "code",
   "execution_count": 7,
   "metadata": {
    "pycharm": {
     "name": "#%%\n"
    }
   },
   "outputs": [
    {
     "data": {
      "text/html": [
       "<div>\n",
       "<style scoped>\n",
       "    .dataframe tbody tr th:only-of-type {\n",
       "        vertical-align: middle;\n",
       "    }\n",
       "\n",
       "    .dataframe tbody tr th {\n",
       "        vertical-align: top;\n",
       "    }\n",
       "\n",
       "    .dataframe thead th {\n",
       "        text-align: right;\n",
       "    }\n",
       "</style>\n",
       "<table border=\"1\" class=\"dataframe\">\n",
       "  <thead>\n",
       "    <tr style=\"text-align: right;\">\n",
       "      <th></th>\n",
       "      <th>id_tweet</th>\n",
       "      <th>ds_tweet</th>\n",
       "      <th>fisiologico</th>\n",
       "      <th>psiquico</th>\n",
       "      <th>comportamental</th>\n",
       "      <th>target</th>\n",
       "      <th>validado_espec</th>\n",
       "      <th>dh_tweet</th>\n",
       "    </tr>\n",
       "  </thead>\n",
       "  <tbody>\n",
       "    <tr>\n",
       "      <th>0</th>\n",
       "      <td>3696</td>\n",
       "      <td>dormi o dia inteiro tinha horas w meu desperta...</td>\n",
       "      <td>1</td>\n",
       "      <td>0</td>\n",
       "      <td>0</td>\n",
       "      <td>1</td>\n",
       "      <td>1</td>\n",
       "      <td>2019-10-09 02:32:41.000000</td>\n",
       "    </tr>\n",
       "    <tr>\n",
       "      <th>1</th>\n",
       "      <td>3885</td>\n",
       "      <td>já entendi que eu não sou importante tá bom</td>\n",
       "      <td>0</td>\n",
       "      <td>1</td>\n",
       "      <td>0</td>\n",
       "      <td>3</td>\n",
       "      <td>1</td>\n",
       "      <td>2019-10-12 12:15:04.000000</td>\n",
       "    </tr>\n",
       "    <tr>\n",
       "      <th>2</th>\n",
       "      <td>3888</td>\n",
       "      <td>chorando pq não sou importante pra ngm 👍🏿 http...</td>\n",
       "      <td>0</td>\n",
       "      <td>1</td>\n",
       "      <td>0</td>\n",
       "      <td>3</td>\n",
       "      <td>1</td>\n",
       "      <td>2019-10-11 23:56:04.000000</td>\n",
       "    </tr>\n",
       "    <tr>\n",
       "      <th>3</th>\n",
       "      <td>3889</td>\n",
       "      <td>Sinto sempre que nao sou importante para certa...</td>\n",
       "      <td>0</td>\n",
       "      <td>1</td>\n",
       "      <td>0</td>\n",
       "      <td>3</td>\n",
       "      <td>1</td>\n",
       "      <td>2019-10-12 14:43:38.000000</td>\n",
       "    </tr>\n",
       "    <tr>\n",
       "      <th>4</th>\n",
       "      <td>8369</td>\n",
       "      <td>Tô indo pra escola com a força do ódio</td>\n",
       "      <td>0</td>\n",
       "      <td>0</td>\n",
       "      <td>0</td>\n",
       "      <td>0</td>\n",
       "      <td>1</td>\n",
       "      <td>2019-10-11 12:10:22.000000</td>\n",
       "    </tr>\n",
       "    <tr>\n",
       "      <th>...</th>\n",
       "      <td>...</td>\n",
       "      <td>...</td>\n",
       "      <td>...</td>\n",
       "      <td>...</td>\n",
       "      <td>...</td>\n",
       "      <td>...</td>\n",
       "      <td>...</td>\n",
       "      <td>...</td>\n",
       "    </tr>\n",
       "    <tr>\n",
       "      <th>4045</th>\n",
       "      <td>10629</td>\n",
       "      <td>@LUCAztec como ousa</td>\n",
       "      <td>0</td>\n",
       "      <td>0</td>\n",
       "      <td>0</td>\n",
       "      <td>0</td>\n",
       "      <td>0</td>\n",
       "      <td>2019-11-01 00:58:30.000000</td>\n",
       "    </tr>\n",
       "    <tr>\n",
       "      <th>4046</th>\n",
       "      <td>10630</td>\n",
       "      <td>@tatastew aí amiga mas pelo menos ele lembra K...</td>\n",
       "      <td>0</td>\n",
       "      <td>0</td>\n",
       "      <td>0</td>\n",
       "      <td>0</td>\n",
       "      <td>0</td>\n",
       "      <td>2019-10-31 17:37:21.000000</td>\n",
       "    </tr>\n",
       "    <tr>\n",
       "      <th>4047</th>\n",
       "      <td>10631</td>\n",
       "      <td>eu só quero chegar em casa, tomar um banho e m...</td>\n",
       "      <td>0</td>\n",
       "      <td>0</td>\n",
       "      <td>0</td>\n",
       "      <td>0</td>\n",
       "      <td>0</td>\n",
       "      <td>2019-10-31 16:07:31.000000</td>\n",
       "    </tr>\n",
       "    <tr>\n",
       "      <th>4048</th>\n",
       "      <td>10632</td>\n",
       "      <td>vou ter que dar um menos no café porque se pá ...</td>\n",
       "      <td>0</td>\n",
       "      <td>0</td>\n",
       "      <td>0</td>\n",
       "      <td>0</td>\n",
       "      <td>0</td>\n",
       "      <td>2019-11-11 11:42:42.000000</td>\n",
       "    </tr>\n",
       "    <tr>\n",
       "      <th>4049</th>\n",
       "      <td>10633</td>\n",
       "      <td>@lxcxzs irmão lázaro???</td>\n",
       "      <td>0</td>\n",
       "      <td>0</td>\n",
       "      <td>0</td>\n",
       "      <td>0</td>\n",
       "      <td>0</td>\n",
       "      <td>2019-11-05 15:43:28.000000</td>\n",
       "    </tr>\n",
       "  </tbody>\n",
       "</table>\n",
       "<p>4050 rows × 8 columns</p>\n",
       "</div>"
      ],
      "text/plain": [
       "      id_tweet                                           ds_tweet  \\\n",
       "0         3696  dormi o dia inteiro tinha horas w meu desperta...   \n",
       "1         3885        já entendi que eu não sou importante tá bom   \n",
       "2         3888  chorando pq não sou importante pra ngm 👍🏿 http...   \n",
       "3         3889  Sinto sempre que nao sou importante para certa...   \n",
       "4         8369             Tô indo pra escola com a força do ódio   \n",
       "...        ...                                                ...   \n",
       "4045     10629                                @LUCAztec como ousa   \n",
       "4046     10630  @tatastew aí amiga mas pelo menos ele lembra K...   \n",
       "4047     10631  eu só quero chegar em casa, tomar um banho e m...   \n",
       "4048     10632  vou ter que dar um menos no café porque se pá ...   \n",
       "4049     10633                            @lxcxzs irmão lázaro???   \n",
       "\n",
       "      fisiologico  psiquico  comportamental  target  validado_espec  \\\n",
       "0               1         0               0       1               1   \n",
       "1               0         1               0       3               1   \n",
       "2               0         1               0       3               1   \n",
       "3               0         1               0       3               1   \n",
       "4               0         0               0       0               1   \n",
       "...           ...       ...             ...     ...             ...   \n",
       "4045            0         0               0       0               0   \n",
       "4046            0         0               0       0               0   \n",
       "4047            0         0               0       0               0   \n",
       "4048            0         0               0       0               0   \n",
       "4049            0         0               0       0               0   \n",
       "\n",
       "                        dh_tweet  \n",
       "0     2019-10-09 02:32:41.000000  \n",
       "1     2019-10-12 12:15:04.000000  \n",
       "2     2019-10-11 23:56:04.000000  \n",
       "3     2019-10-12 14:43:38.000000  \n",
       "4     2019-10-11 12:10:22.000000  \n",
       "...                          ...  \n",
       "4045  2019-11-01 00:58:30.000000  \n",
       "4046  2019-10-31 17:37:21.000000  \n",
       "4047  2019-10-31 16:07:31.000000  \n",
       "4048  2019-11-11 11:42:42.000000  \n",
       "4049  2019-11-05 15:43:28.000000  \n",
       "\n",
       "[4050 rows x 8 columns]"
      ]
     },
     "metadata": {},
     "output_type": "display_data"
    }
   ],
   "source": [
    "display(df)"
   ]
  },
  {
   "cell_type": "code",
   "execution_count": 8,
   "metadata": {
    "pycharm": {
     "name": "#%%\n"
    }
   },
   "outputs": [],
   "source": [
    "df['data_postagem'] = pd.to_datetime(df['dh_tweet']).dt.date\n",
    "df['hora_postagem'] = pd.to_datetime(df['dh_tweet']).dt.time"
   ]
  },
  {
   "cell_type": "code",
   "execution_count": 9,
   "metadata": {
    "pycharm": {
     "name": "#%%\n"
    }
   },
   "outputs": [
    {
     "data": {
      "text/html": [
       "<div>\n",
       "<style scoped>\n",
       "    .dataframe tbody tr th:only-of-type {\n",
       "        vertical-align: middle;\n",
       "    }\n",
       "\n",
       "    .dataframe tbody tr th {\n",
       "        vertical-align: top;\n",
       "    }\n",
       "\n",
       "    .dataframe thead th {\n",
       "        text-align: right;\n",
       "    }\n",
       "</style>\n",
       "<table border=\"1\" class=\"dataframe\">\n",
       "  <thead>\n",
       "    <tr style=\"text-align: right;\">\n",
       "      <th></th>\n",
       "      <th>id_tweet</th>\n",
       "      <th>ds_tweet</th>\n",
       "      <th>fisiologico</th>\n",
       "      <th>psiquico</th>\n",
       "      <th>comportamental</th>\n",
       "      <th>target</th>\n",
       "      <th>validado_espec</th>\n",
       "      <th>dh_tweet</th>\n",
       "      <th>data_postagem</th>\n",
       "      <th>hora_postagem</th>\n",
       "    </tr>\n",
       "  </thead>\n",
       "  <tbody>\n",
       "    <tr>\n",
       "      <th>0</th>\n",
       "      <td>3696</td>\n",
       "      <td>dormi o dia inteiro tinha horas w meu desperta...</td>\n",
       "      <td>1</td>\n",
       "      <td>0</td>\n",
       "      <td>0</td>\n",
       "      <td>1</td>\n",
       "      <td>1</td>\n",
       "      <td>2019-10-09 02:32:41.000000</td>\n",
       "      <td>2019-10-09</td>\n",
       "      <td>02:32:41</td>\n",
       "    </tr>\n",
       "    <tr>\n",
       "      <th>1</th>\n",
       "      <td>3885</td>\n",
       "      <td>já entendi que eu não sou importante tá bom</td>\n",
       "      <td>0</td>\n",
       "      <td>1</td>\n",
       "      <td>0</td>\n",
       "      <td>3</td>\n",
       "      <td>1</td>\n",
       "      <td>2019-10-12 12:15:04.000000</td>\n",
       "      <td>2019-10-12</td>\n",
       "      <td>12:15:04</td>\n",
       "    </tr>\n",
       "    <tr>\n",
       "      <th>2</th>\n",
       "      <td>3888</td>\n",
       "      <td>chorando pq não sou importante pra ngm 👍🏿 http...</td>\n",
       "      <td>0</td>\n",
       "      <td>1</td>\n",
       "      <td>0</td>\n",
       "      <td>3</td>\n",
       "      <td>1</td>\n",
       "      <td>2019-10-11 23:56:04.000000</td>\n",
       "      <td>2019-10-11</td>\n",
       "      <td>23:56:04</td>\n",
       "    </tr>\n",
       "    <tr>\n",
       "      <th>3</th>\n",
       "      <td>3889</td>\n",
       "      <td>Sinto sempre que nao sou importante para certa...</td>\n",
       "      <td>0</td>\n",
       "      <td>1</td>\n",
       "      <td>0</td>\n",
       "      <td>3</td>\n",
       "      <td>1</td>\n",
       "      <td>2019-10-12 14:43:38.000000</td>\n",
       "      <td>2019-10-12</td>\n",
       "      <td>14:43:38</td>\n",
       "    </tr>\n",
       "    <tr>\n",
       "      <th>4</th>\n",
       "      <td>8369</td>\n",
       "      <td>Tô indo pra escola com a força do ódio</td>\n",
       "      <td>0</td>\n",
       "      <td>0</td>\n",
       "      <td>0</td>\n",
       "      <td>0</td>\n",
       "      <td>1</td>\n",
       "      <td>2019-10-11 12:10:22.000000</td>\n",
       "      <td>2019-10-11</td>\n",
       "      <td>12:10:22</td>\n",
       "    </tr>\n",
       "    <tr>\n",
       "      <th>...</th>\n",
       "      <td>...</td>\n",
       "      <td>...</td>\n",
       "      <td>...</td>\n",
       "      <td>...</td>\n",
       "      <td>...</td>\n",
       "      <td>...</td>\n",
       "      <td>...</td>\n",
       "      <td>...</td>\n",
       "      <td>...</td>\n",
       "      <td>...</td>\n",
       "    </tr>\n",
       "    <tr>\n",
       "      <th>4045</th>\n",
       "      <td>10629</td>\n",
       "      <td>@LUCAztec como ousa</td>\n",
       "      <td>0</td>\n",
       "      <td>0</td>\n",
       "      <td>0</td>\n",
       "      <td>0</td>\n",
       "      <td>0</td>\n",
       "      <td>2019-11-01 00:58:30.000000</td>\n",
       "      <td>2019-11-01</td>\n",
       "      <td>00:58:30</td>\n",
       "    </tr>\n",
       "    <tr>\n",
       "      <th>4046</th>\n",
       "      <td>10630</td>\n",
       "      <td>@tatastew aí amiga mas pelo menos ele lembra K...</td>\n",
       "      <td>0</td>\n",
       "      <td>0</td>\n",
       "      <td>0</td>\n",
       "      <td>0</td>\n",
       "      <td>0</td>\n",
       "      <td>2019-10-31 17:37:21.000000</td>\n",
       "      <td>2019-10-31</td>\n",
       "      <td>17:37:21</td>\n",
       "    </tr>\n",
       "    <tr>\n",
       "      <th>4047</th>\n",
       "      <td>10631</td>\n",
       "      <td>eu só quero chegar em casa, tomar um banho e m...</td>\n",
       "      <td>0</td>\n",
       "      <td>0</td>\n",
       "      <td>0</td>\n",
       "      <td>0</td>\n",
       "      <td>0</td>\n",
       "      <td>2019-10-31 16:07:31.000000</td>\n",
       "      <td>2019-10-31</td>\n",
       "      <td>16:07:31</td>\n",
       "    </tr>\n",
       "    <tr>\n",
       "      <th>4048</th>\n",
       "      <td>10632</td>\n",
       "      <td>vou ter que dar um menos no café porque se pá ...</td>\n",
       "      <td>0</td>\n",
       "      <td>0</td>\n",
       "      <td>0</td>\n",
       "      <td>0</td>\n",
       "      <td>0</td>\n",
       "      <td>2019-11-11 11:42:42.000000</td>\n",
       "      <td>2019-11-11</td>\n",
       "      <td>11:42:42</td>\n",
       "    </tr>\n",
       "    <tr>\n",
       "      <th>4049</th>\n",
       "      <td>10633</td>\n",
       "      <td>@lxcxzs irmão lázaro???</td>\n",
       "      <td>0</td>\n",
       "      <td>0</td>\n",
       "      <td>0</td>\n",
       "      <td>0</td>\n",
       "      <td>0</td>\n",
       "      <td>2019-11-05 15:43:28.000000</td>\n",
       "      <td>2019-11-05</td>\n",
       "      <td>15:43:28</td>\n",
       "    </tr>\n",
       "  </tbody>\n",
       "</table>\n",
       "<p>4050 rows × 10 columns</p>\n",
       "</div>"
      ],
      "text/plain": [
       "      id_tweet                                           ds_tweet  \\\n",
       "0         3696  dormi o dia inteiro tinha horas w meu desperta...   \n",
       "1         3885        já entendi que eu não sou importante tá bom   \n",
       "2         3888  chorando pq não sou importante pra ngm 👍🏿 http...   \n",
       "3         3889  Sinto sempre que nao sou importante para certa...   \n",
       "4         8369             Tô indo pra escola com a força do ódio   \n",
       "...        ...                                                ...   \n",
       "4045     10629                                @LUCAztec como ousa   \n",
       "4046     10630  @tatastew aí amiga mas pelo menos ele lembra K...   \n",
       "4047     10631  eu só quero chegar em casa, tomar um banho e m...   \n",
       "4048     10632  vou ter que dar um menos no café porque se pá ...   \n",
       "4049     10633                            @lxcxzs irmão lázaro???   \n",
       "\n",
       "      fisiologico  psiquico  comportamental  target  validado_espec  \\\n",
       "0               1         0               0       1               1   \n",
       "1               0         1               0       3               1   \n",
       "2               0         1               0       3               1   \n",
       "3               0         1               0       3               1   \n",
       "4               0         0               0       0               1   \n",
       "...           ...       ...             ...     ...             ...   \n",
       "4045            0         0               0       0               0   \n",
       "4046            0         0               0       0               0   \n",
       "4047            0         0               0       0               0   \n",
       "4048            0         0               0       0               0   \n",
       "4049            0         0               0       0               0   \n",
       "\n",
       "                        dh_tweet data_postagem hora_postagem  \n",
       "0     2019-10-09 02:32:41.000000    2019-10-09      02:32:41  \n",
       "1     2019-10-12 12:15:04.000000    2019-10-12      12:15:04  \n",
       "2     2019-10-11 23:56:04.000000    2019-10-11      23:56:04  \n",
       "3     2019-10-12 14:43:38.000000    2019-10-12      14:43:38  \n",
       "4     2019-10-11 12:10:22.000000    2019-10-11      12:10:22  \n",
       "...                          ...           ...           ...  \n",
       "4045  2019-11-01 00:58:30.000000    2019-11-01      00:58:30  \n",
       "4046  2019-10-31 17:37:21.000000    2019-10-31      17:37:21  \n",
       "4047  2019-10-31 16:07:31.000000    2019-10-31      16:07:31  \n",
       "4048  2019-11-11 11:42:42.000000    2019-11-11      11:42:42  \n",
       "4049  2019-11-05 15:43:28.000000    2019-11-05      15:43:28  \n",
       "\n",
       "[4050 rows x 10 columns]"
      ]
     },
     "metadata": {},
     "output_type": "display_data"
    }
   ],
   "source": [
    "display(df)"
   ]
  },
  {
   "cell_type": "code",
   "execution_count": 10,
   "metadata": {
    "pycharm": {
     "name": "#%%\n"
    }
   },
   "outputs": [
    {
     "name": "stdout",
     "output_type": "stream",
     "text": [
      "\u001b[35mtotal da classe 0 é: 2180\n",
      "\u001b[35mtotal da classe 1 é: 361\n",
      "\u001b[35mtotal da classe 2 é: 376\n",
      "\u001b[35mtotal da classe 3 é: 1133\n"
     ]
    },
    {
     "data": {
      "image/png": "[encoded data removed]",
      "text/plain": [
       "<Figure size 432x288 with 1 Axes>"
      ]
     },
     "metadata": {
      "needs_background": "dark"
     },
     "output_type": "display_data"
    }
   ],
   "source": [
    "## HISTOGRAMA COM FREQUENCIA DAS CLASSES NA BASE\n",
    "x = df['target']\n",
    "plt.title('FREQUENCIA DAS CLASSES NA BASE')\n",
    "plt.xlabel(\"Classes (0=Nenhum, 1=Fisiológico, 2=Comportamental, 3=Psíquico)\")\n",
    "plt.hist(x, 4, rwidth=0.9, color='red', alpha=0.7, edgecolor='black') ## x corresponde a coluna do dataset que armazena as classes (label/target no caso)\n",
    "# 4 corresponde ao numero de classes, e rwidth ao tamanho das barras\n",
    "\n",
    "\n",
    "## Confirmando os valores do histograma\n",
    "classe = [0,1,2,3]\n",
    "for i in range(len(classe)):\n",
    "    classe_mensagem = \"{}{}{}\".format(\"total da classe \", i, \" é: \") \n",
    "    print(Fore.MAGENTA + \"{}{}\".format(classe_mensagem, len(df[df[\"target\"]==i])))"
   ]
  },
  {
   "cell_type": "code",
   "execution_count": 11,
   "metadata": {
    "pycharm": {
     "name": "#%%\n"
    }
   },
   "outputs": [],
   "source": [
    "def limpar_tweets(text):\n",
    "    text = re.sub(r'@[A-Za-z0-9]+', '', text)# Remove mencoes\n",
    "    text = re.sub(r'@[A-Za-z0-9]_+', '', text)# Remove mencoes\n",
    "    text = re.sub(r'@_[A-Za-z0-9]+', '', text)# Remove mencoes\n",
    "    text = re.sub(r'@_[A-Za-z0-9]_+', '', text)# Remove mencoes\n",
    "    text = re.sub(r'#','', text) # Remove simbolo de hashtags\n",
    "    text = re.sub(r'RT[\\s]+','',text) # Remove Retweets\n",
    "    text = re.sub(r'https?:/\\/\\S+','',text) # Remove URLS\n",
    "\n",
    "    regrex_pattern = re.compile(pattern = \"[\"   #Remove todos os emojis\n",
    "        u\"\\U0001F600-\\U0001F64F\"  # emoticons\n",
    "        u\"\\U0001F300-\\U0001F5FF\"  # symbols & pictographs\n",
    "        u\"\\U0001F680-\\U0001F6FF\"  # transport & map symbols\n",
    "        u\"\\U0001F1E0-\\U0001F1FF\"  # flags (iOS)\n",
    "        u\"\\U00002500-\\U00002BEF\"  # chinese char\n",
    "        u\"\\U00002702-\\U000027B0\"\n",
    "        u\"\\U00002702-\\U000027B0\"\n",
    "        u\"\\U000024C2-\\U0001F251\"\n",
    "        u\"\\U0001f926-\\U0001f937\"\n",
    "        u\"\\U00010000-\\U0010ffff\"\n",
    "        u\"\\u2640-\\u2642\"\n",
    "        u\"\\u2600-\\u2B55\"\n",
    "        u\"\\u200d\"\n",
    "        u\"\\u23cf\"\n",
    "        u\"\\u23e9\"\n",
    "        u\"\\u231a\"\n",
    "        u\"\\ufe0f\"  # dingbats\n",
    "        u\"\\u3030\"\n",
    "                           \"]+\", flags = re.UNICODE)\n",
    "    return regrex_pattern.sub(r'', text)\n",
    "    return text"
   ]
  },
  {
   "cell_type": "code",
   "execution_count": 12,
   "metadata": {
    "pycharm": {
     "name": "#%%\n"
    }
   },
   "outputs": [
    {
     "data": {
      "text/plain": [
       "4050"
      ]
     },
     "execution_count": 12,
     "metadata": {},
     "output_type": "execute_result"
    }
   ],
   "source": [
    "df['tweets'] = df['ds_tweet'].apply(limpar_tweets)\n",
    "df.head()\n",
    "len(df)"
   ]
  },
  {
   "cell_type": "code",
   "execution_count": 13,
   "metadata": {
    "pycharm": {
     "name": "#%%\n"
    }
   },
   "outputs": [
    {
     "data": {
      "text/plain": [
       "4049"
      ]
     },
     "execution_count": 13,
     "metadata": {},
     "output_type": "execute_result"
    }
   ],
   "source": [
    "df = df.drop(df[df['tweets'] == ''].index)\n",
    "len(df.index)"
   ]
  },
  {
   "cell_type": "code",
   "execution_count": 14,
   "metadata": {
    "pycharm": {
     "name": "#%%\n"
    }
   },
   "outputs": [
    {
     "data": {
      "text/plain": [
       "4    tô indo pra escola com a força do ódio\n",
       "Name: tweets, dtype: object"
      ]
     },
     "metadata": {},
     "output_type": "display_data"
    }
   ],
   "source": [
    "df['tweets'] = df['tweets'].str.lower()  ## padroniza os tweets transformando de uppercase para lowercase\n",
    "\n",
    "## Verificando se os tweets estao padronizados em lowercase\n",
    "filter = (df['id_tweet'] == 8369)\n",
    "teste = df.loc[filter,'tweets']  \n",
    "display(teste)"
   ]
  },
  {
   "cell_type": "code",
   "execution_count": 15,
   "metadata": {
    "pycharm": {
     "name": "#%%\n"
    }
   },
   "outputs": [
    {
     "name": "stdout",
     "output_type": "stream",
     "text": [
      "['a', 'à', 'ao', 'aos', 'aquela', 'aquelas', 'aquele', 'aqueles', 'aquilo', 'as', 'às', 'até', 'com', 'como', 'da', 'das', 'de', 'dela', 'delas', 'dele', 'deles', 'depois', 'do', 'dos', 'e', 'é', 'ela', 'elas', 'ele', 'eles', 'em', 'entre', 'era', 'eram', 'éramos', 'essa', 'essas', 'esse', 'esses', 'esta', 'está', 'estamos', 'estão', 'estar', 'estas', 'estava', 'estavam', 'estávamos', 'este', 'esteja', 'estejam', 'estejamos', 'estes', 'esteve', 'estive', 'estivemos', 'estiver', 'estivera', 'estiveram', 'estivéramos', 'estiverem', 'estivermos', 'estivesse', 'estivessem', 'estivéssemos', 'estou', 'eu', 'foi', 'fomos', 'for', 'fora', 'foram', 'fôramos', 'forem', 'formos', 'fosse', 'fossem', 'fôssemos', 'fui', 'há', 'haja', 'hajam', 'hajamos', 'hão', 'havemos', 'haver', 'hei', 'houve', 'houvemos', 'houver', 'houvera', 'houverá', 'houveram', 'houvéramos', 'houverão', 'houverei', 'houverem', 'houveremos', 'houveria', 'houveriam', 'houveríamos', 'houvermos', 'houvesse', 'houvessem', 'houvéssemos', 'isso', 'isto', 'já', 'lhe', 'lhes', 'mais', 'mas', 'me', 'mesmo', 'meu', 'meus', 'minha', 'minhas', 'muito', 'na', 'não', 'nas', 'nem', 'no', 'nos', 'nós', 'nossa', 'nossas', 'nosso', 'nossos', 'num', 'numa', 'o', 'os', 'ou', 'para', 'pela', 'pelas', 'pelo', 'pelos', 'por', 'qual', 'quando', 'que', 'quem', 'são', 'se', 'seja', 'sejam', 'sejamos', 'sem', 'ser', 'será', 'serão', 'serei', 'seremos', 'seria', 'seriam', 'seríamos', 'seu', 'seus', 'só', 'somos', 'sou', 'sua', 'suas', 'também', 'te', 'tem', 'tém', 'temos', 'tenha', 'tenham', 'tenhamos', 'tenho', 'terá', 'terão', 'terei', 'teremos', 'teria', 'teriam', 'teríamos', 'teu', 'teus', 'teve', 'tinha', 'tinham', 'tínhamos', 'tive', 'tivemos', 'tiver', 'tivera', 'tiveram', 'tivéramos', 'tiverem', 'tivermos', 'tivesse', 'tivessem', 'tivéssemos', 'tu', 'tua', 'tuas', 'um', 'uma', 'você', 'vocês', 'vos']\n"
     ]
    }
   ],
   "source": [
    "stop = stopwords.words(\"portuguese\")\n",
    "\n",
    "print(stop)"
   ]
  },
  {
   "cell_type": "code",
   "execution_count": 16,
   "metadata": {
    "pycharm": {
     "name": "#%%\n"
    }
   },
   "outputs": [],
   "source": [
    "## removendo os stopwords\n",
    "df[\"tweets\"] = df[\"tweets\"].apply(lambda x: \" \".join(x for x in x.split() if x not in stop))"
   ]
  },
  {
   "cell_type": "code",
   "execution_count": 17,
   "metadata": {
    "pycharm": {
     "name": "#%%\n"
    }
   },
   "outputs": [
    {
     "data": {
      "text/plain": [
       "0       dormi dia inteiro horas w despertafor tocava a...\n",
       "1                               entendi importante tá bom\n",
       "2                          chorando pq importante pra ngm\n",
       "3       sinto sempre nao importante certas pessoas man...\n",
       "4                           tô indo pra escola força ódio\n",
       "                              ...                        \n",
       "4045                                                 ousa\n",
       "4046    aí amiga menos lembra kkkkkkk lucas noia carai...\n",
       "4047           quero chegar casa, tomar banho enfiar cama\n",
       "4048    vou ter dar menos café porque pá quantidade an...\n",
       "4049                                      irmão lázaro???\n",
       "Name: tweets, Length: 4049, dtype: object"
      ]
     },
     "metadata": {},
     "output_type": "display_data"
    }
   ],
   "source": [
    "display(df[\"tweets\"])"
   ]
  },
  {
   "cell_type": "code",
   "execution_count": 18,
   "metadata": {
    "pycharm": {
     "name": "#%%\n"
    }
   },
   "outputs": [],
   "source": [
    "stemmer = PorterStemmer()\n",
    "w_tokenizer = nltk.tokenize.WhitespaceTokenizer()\n",
    "lemmatizer = nltk.stem.WordNetLemmatizer()\n",
    "\n",
    "def lemmatize_text(text):\n",
    "    lemma_words = [lemmatizer.lemmatize(w) for w in w_tokenizer.tokenize(text)]\n",
    "    return \" \".join(lemma_words)\n",
    "\n",
    "def stemming_text(text):\n",
    "    stemming_words = [stemmer.stem(word) for word in nltk.word_tokenize(text)]\n",
    "    return \" \".join(stemming_words)\n"
   ]
  },
  {
   "cell_type": "code",
   "execution_count": 19,
   "metadata": {
    "pycharm": {
     "name": "#%%\n"
    }
   },
   "outputs": [],
   "source": [
    "df[\"tweets\"] = df[\"tweets\"].apply(lemmatize_text) ## para testar o stemming, basta trocar o nome da funcao no parametro.\n",
    "# df"
   ]
  },
  {
   "cell_type": "code",
   "execution_count": 20,
   "metadata": {
    "pycharm": {
     "name": "#%%\n"
    }
   },
   "outputs": [],
   "source": [
    "# ALGORITMO BAG OF WORDS\n",
    "BagOfWords = CountVectorizer()\n",
    "BagOfWords.fit_transform(df['tweets'])\n",
    "BagOfWords.get_feature_names_out()\n",
    "BagOfWords_result = BagOfWords.transform(df['tweets'])\n"
   ]
  },
  {
   "cell_type": "code",
   "execution_count": 42,
   "metadata": {
    "pycharm": {
     "name": "#%%\n"
    }
   },
   "outputs": [
    {
     "name": "stdout",
     "output_type": "stream",
     "text": [
      "  (0, 415)\t1\n",
      "  (0, 427)\t1\n",
      "  (0, 1442)\t1\n",
      "  (0, 2081)\t1\n",
      "  (0, 2201)\t1\n",
      "  (0, 2247)\t1\n",
      "  (0, 2387)\t1\n",
      "  (0, 3486)\t1\n",
      "  (0, 3725)\t1\n",
      "  (0, 4007)\t1\n",
      "  (0, 5153)\t1\n",
      "  (0, 5239)\t1\n",
      "  (0, 6063)\t1\n",
      "  (0, 6430)\t1\n",
      "  (0, 6572)\t1\n",
      "  (0, 6711)\t1\n",
      "  (0, 6716)\t1\n",
      "  (0, 6761)\t1\n",
      "  (0, 6838)\t1\n",
      "  (1, 1066)\t1\n",
      "  (1, 2600)\t1\n",
      "  (1, 3588)\t1\n",
      "  (1, 6872)\t1\n",
      "  (2, 1449)\t1\n",
      "  (2, 3588)\t1\n",
      "  :\t:\n",
      "  (4045, 4374)\t1\n",
      "  (4045, 4759)\t1\n",
      "  (4046, 929)\t1\n",
      "  (4046, 1220)\t1\n",
      "  (4046, 1320)\t1\n",
      "  (4046, 1424)\t1\n",
      "  (4046, 2552)\t1\n",
      "  (4046, 5751)\t1\n",
      "  (4046, 6730)\t1\n",
      "  (4047, 579)\t1\n",
      "  (4047, 613)\t1\n",
      "  (4047, 1193)\t1\n",
      "  (4047, 1865)\t1\n",
      "  (4047, 1958)\t1\n",
      "  (4047, 4374)\t1\n",
      "  (4047, 5282)\t1\n",
      "  (4047, 5374)\t1\n",
      "  (4047, 5671)\t1\n",
      "  (4047, 5704)\t1\n",
      "  (4047, 6632)\t1\n",
      "  (4047, 6728)\t1\n",
      "  (4047, 6872)\t1\n",
      "  (4047, 7125)\t1\n",
      "  (4048, 3780)\t1\n",
      "  (4048, 4160)\t1\n"
     ]
    }
   ],
   "source": [
    "print(BagOfWords_result)"
   ]
  },
  {
   "cell_type": "code",
   "execution_count": 22,
   "metadata": {
    "pycharm": {
     "name": "#%%\n"
    }
   },
   "outputs": [],
   "source": [
    "#ALGORITMO TFIDF\n",
    "\n",
    "tfidf_vec = TfidfVectorizer(use_idf=True)\n",
    "tfidf_vec.fit(df['tweets'])\n",
    "tfidf_result = tfidf_vec.transform(df['tweets'])"
   ]
  },
  {
   "cell_type": "code",
   "execution_count": 43,
   "metadata": {
    "pycharm": {
     "name": "#%%\n"
    }
   },
   "outputs": [
    {
     "name": "stdout",
     "output_type": "stream",
     "text": [
      "  (0, 6838)\t0.26722564214463307\n",
      "  (0, 6761)\t0.21729334762843833\n",
      "  (0, 6716)\t0.25464621734192167\n",
      "  (0, 6711)\t0.10900392355578467\n",
      "  (0, 6572)\t0.22421630466674966\n",
      "  (0, 6430)\t0.26722564214463307\n",
      "  (0, 6063)\t0.26722564214463307\n",
      "  (0, 5239)\t0.25464621734192167\n",
      "  (0, 5153)\t0.26722564214463307\n",
      "  (0, 4007)\t0.23879801636738004\n",
      "  (0, 3725)\t0.21729334762843833\n",
      "  (0, 3486)\t0.18025228635810567\n",
      "  (0, 2387)\t0.19578867888949664\n",
      "  (0, 2247)\t0.11336364882208627\n",
      "  (0, 2201)\t0.26722564214463307\n",
      "  (0, 2081)\t0.2143363798997588\n",
      "  (0, 1442)\t0.26722564214463307\n",
      "  (0, 427)\t0.26722564214463307\n",
      "  (0, 415)\t0.1649733615196737\n",
      "  (1, 6872)\t0.35831074043865085\n",
      "  (1, 3588)\t0.5698963096767653\n",
      "  (1, 2600)\t0.6198971366564264\n",
      "  (1, 1066)\t0.40318624662589114\n",
      "  (2, 5437)\t0.24320594432960788\n",
      "  (2, 5433)\t0.333410981372364\n",
      "  :\t:\n",
      "  (4045, 882)\t0.2436842968820007\n",
      "  (4045, 541)\t0.2998614284331625\n",
      "  (4046, 6730)\t0.35629808660685175\n",
      "  (4046, 5751)\t0.23439078429594262\n",
      "  (4046, 2552)\t0.5359733894186064\n",
      "  (4046, 1424)\t0.3975201443878147\n",
      "  (4046, 1320)\t0.27965330699369273\n",
      "  (4046, 1220)\t0.36364290084058354\n",
      "  (4046, 929)\t0.40296496487187106\n",
      "  (4047, 7125)\t0.15859462444001526\n",
      "  (4047, 6872)\t0.18447169019999224\n",
      "  (4047, 6728)\t0.2863091039415687\n",
      "  (4047, 6632)\t0.18301211355769104\n",
      "  (4047, 5704)\t0.34858370636199026\n",
      "  (4047, 5671)\t0.34858370636199026\n",
      "  (4047, 5374)\t0.22065446281142315\n",
      "  (4047, 5282)\t0.3363659925315957\n",
      "  (4047, 4374)\t0.2396515891402198\n",
      "  (4047, 1958)\t0.23083324909850347\n",
      "  (4047, 1865)\t0.32688919743685824\n",
      "  (4047, 1193)\t0.270192369380807\n",
      "  (4047, 613)\t0.23857635448924316\n",
      "  (4047, 579)\t0.270192369380807\n",
      "  (4048, 4160)\t0.8183807657437153\n",
      "  (4048, 3780)\t0.5746763630607492\n"
     ]
    }
   ],
   "source": [
    "print(tfidf_result)"
   ]
  },
  {
   "cell_type": "code",
   "execution_count": 24,
   "metadata": {
    "pycharm": {
     "name": "#%%\n"
    }
   },
   "outputs": [],
   "source": [
    "#SEPARA OS CONJUNTOS DE TREINAMENTO E TESTE\n",
    "X = BagOfWords_result   #Caso necessite usar outro metodo apenas trocar essa variavel por tfidf_result ou BagOfWords_result\n",
    "y = df['target']\n",
    "X_train, X_test, y_train, y_test = train_test_split(X, y, test_size=0.3, stratify=y, random_state=42)"
   ]
  },
  {
   "cell_type": "code",
   "execution_count": 25,
   "metadata": {
    "pycharm": {
     "name": "#%%\n"
    }
   },
   "outputs": [
    {
     "name": "stdout",
     "output_type": "stream",
     "text": [
      "\u001b[1m\u001b[31mMATRIZ DE CONFUSAO\u001b[0m\n",
      "---------------------- \n",
      "\n",
      "[[552  17  11  74]\n",
      " [ 10  85   5   8]\n",
      " [  4   3  86  20]\n",
      " [ 63   7  19 251]]\n",
      "---------------------- \n",
      "\n",
      "\u001b[1m\u001b[31mACURACIDADE\u001b[0m\n",
      "---------------------- \n",
      "\n",
      "0.8016460905349794\n",
      "---------------------- \n",
      "\n",
      "\u001b[34m\n",
      " \n",
      "  RELATORIO COM MAIS INFORMACOES\n",
      "\n",
      " \n",
      " \n",
      " \n",
      "              precision    recall  f1-score   support\n",
      "\n",
      "           0       0.88      0.84      0.86       654\n",
      "           1       0.76      0.79      0.77       108\n",
      "           2       0.71      0.76      0.74       113\n",
      "           3       0.71      0.74      0.72       340\n",
      "\n",
      "    accuracy                           0.80      1215\n",
      "   macro avg       0.76      0.78      0.77      1215\n",
      "weighted avg       0.80      0.80      0.80      1215\n",
      "\n",
      "F1 Score :  0.773159993639339\n",
      "Precision Score :  0.7645759993851126\n",
      "Recall Score :  0.7825927438262613\n"
     ]
    },
    {
     "data": {
      "text/plain": [
       "<AxesSubplot:>"
      ]
     },
     "execution_count": 25,
     "metadata": {},
     "output_type": "execute_result"
    },
    {
     "data": {
      "image/png": "[encoded data removed]",
      "text/plain": [
       "<Figure size 432x288 with 2 Axes>"
      ]
     },
     "metadata": {
      "needs_background": "dark"
     },
     "output_type": "display_data"
    }
   ],
   "source": [
    "### ------------------------ TESTE COM ARVORE DE DECISÃO ------------------------------------------------\n",
    "\n",
    "clf = DecisionTreeClassifier()  ## Instancia o objeto do referido algoritmo. Cria o Modelo.\n",
    "\n",
    "clf.fit(X_train, y_train)  ## apresenta os dados x, y ao modelo\n",
    "\n",
    "y_pred = clf.predict(X_test) ## Efetua as predições.\n",
    "\n",
    "y_pred_prob = clf.predict_proba(X_test)\n",
    "\n",
    "#Acuracidade\n",
    "\n",
    "\n",
    "print(Style.BRIGHT + Fore.RED + \"MATRIZ DE CONFUSAO\" + Style.RESET_ALL)\n",
    "print(\"---------------------- \\n\")\n",
    "print(confusion_matrix(y_test, y_pred))\n",
    "print(\"---------------------- \\n\")    \n",
    "\n",
    "\n",
    "print(Style.BRIGHT + Fore.RED + \"ACURACIDADE\" + Style.RESET_ALL)\n",
    "print(\"---------------------- \\n\")\n",
    "print(accuracy_score(y_test, y_pred))\n",
    "print(\"---------------------- \\n\")    \n",
    "# F1-SCORE\n",
    "\n",
    "# f1 = f1_score(y_test, y_pred,pos_label='positive', average='micro')\n",
    "# print(f1)\n",
    "\n",
    "print(Fore.BLUE +  \"\\n \\n  RELATORIO COM MAIS INFORMACOES\")\n",
    "print(\"\\n \\n \\n \")\n",
    "\n",
    "print(classification_report(y_test, y_pred))\n",
    "print(\"F1 Score : \",f1_score(y_test, y_pred, average=\"macro\"))##Average macro calcula uma média aritmetica entre todos os  f1-scores das classes\n",
    "print(\"Precision Score : \",precision_score(y_test, y_pred,average=\"macro\"))\n",
    "print(\"Recall Score : \",recall_score(y_test, y_pred, \n",
    "                                           average=\"macro\"))\n",
    "\n",
    "\n",
    "\n",
    "\n",
    "sb.heatmap(confusion_matrix(y_test, y_pred), annot=True, cmap='Blues', fmt='g')\n",
    "\n",
    "### ------------------------------------------------------------------------------------------------\n",
    "\n",
    "\n"
   ]
  },
  {
   "cell_type": "code",
   "execution_count": 26,
   "metadata": {
    "pycharm": {
     "name": "#%%\n"
    }
   },
   "outputs": [
    {
     "data": {
      "text/plain": [
       "0.8564612006528416"
      ]
     },
     "execution_count": 26,
     "metadata": {},
     "output_type": "execute_result"
    },
    {
     "data": {
      "image/png": "[encoded data removed]",
      "text/plain": [
       "<Figure size 432x288 with 1 Axes>"
      ]
     },
     "metadata": {
      "needs_background": "dark"
     },
     "output_type": "display_data"
    }
   ],
   "source": [
    "fpr = {}\n",
    "tpr = {}\n",
    "thresh ={}\n",
    "\n",
    "n_class = [0,1,2,3]\n",
    "\n",
    "for i in range(len(n_class)):    \n",
    "    fpr[i], tpr[i], thresh[i] = roc_curve(y_test, y_pred_prob[:,i], pos_label=i)\n",
    "    \n",
    "    \n",
    "# plotting  One vs ALL   \n",
    "plt.plot(fpr[0], tpr[0], linestyle='--',color='orange', label='Classe 0 vs Rest')\n",
    "plt.plot(fpr[1], tpr[1], linestyle='--',color='green', label='Classe 1 vs Rest')\n",
    "plt.plot(fpr[2], tpr[2], linestyle='--',color='blue', label='Classe 2 vs Rest')\n",
    "plt.plot(fpr[3], tpr[3], linestyle='--',color='red', label='Classe 3 vs Rest')\n",
    "sb.lineplot(x = [0, 1], y = [0, 1], color = 'green', ax = None)\n",
    "plt.title('Multiclass ROC curve')\n",
    "plt.xlabel('False Positive Rate')\n",
    "plt.ylabel('True Positive rate')\n",
    "plt.legend(loc='best')\n",
    "\n",
    "roc_auc_score(y_test, y_pred_prob, labels = n_class, multi_class = 'ovr', average = 'macro')"
   ]
  },
  {
   "cell_type": "markdown",
   "metadata": {
    "pycharm": {
     "name": "#%% md\n"
    }
   },
   "source": [
    "###### UTILIZAÇÃO DAS FUNÇÕES CRIADAS POR: [Vinícius Trevisan](https://github.com/vinyluis/Articles/tree/main/ROC%20Curve%20and%20ROC%20AUC)"
   ]
  },
  {
   "cell_type": "markdown",
   "metadata": {
    "pycharm": {
     "name": "#%% md\n"
    }
   },
   "source": [
    "###### Artigos utilizados para estudo do ROC AUC:<br> <br> [Interpreting ROC Curve and ROC AUC for Classification Evaluation](https://towardsdatascience.com/interpreting-roc-curve-and-roc-auc-for-classification-evaluation-28ec3983f077) <br>\n",
    "[Multiclass classification evaluation with ROC Curves and ROC AUC](https://towardsdatascience.com/multiclass-classification-evaluation-with-roc-curves-and-roc-auc-294fd4617e3a)"
   ]
  },
  {
   "cell_type": "code",
   "execution_count": 27,
   "metadata": {
    "pycharm": {
     "name": "#%%\n"
    }
   },
   "outputs": [],
   "source": [
    "def calculate_tpr_fpr(y_real, y_pred):\n",
    "    '''\n",
    "    Calculates the True Positive Rate (tpr) and the True Negative Rate (fpr) based on real and predicted observations\n",
    "    \n",
    "    Args:\n",
    "        y_real: The list or series with the real classes\n",
    "        y_pred: The list or series with the predicted classes\n",
    "        \n",
    "    Returns:\n",
    "        tpr: The True Positive Rate of the classifier\n",
    "        fpr: The False Positive Rate of the classifier\n",
    "    '''\n",
    "    \n",
    "    # Calculates the confusion matrix and recover each element\n",
    "    cm = confusion_matrix(y_real, y_pred)\n",
    "    TN = cm[0, 0]\n",
    "    FP = cm[0, 1]\n",
    "    FN = cm[1, 0]\n",
    "    TP = cm[1, 1]\n",
    "    \n",
    "    # Calculates tpr and fpr\n",
    "    tpr =  TP/(TP + FN) # sensitivity - true positive rate\n",
    "    fpr = 1 - TN/(TN+FP) # 1-specificity - false positive rate\n",
    "    \n",
    "    return tpr, fpr"
   ]
  },
  {
   "cell_type": "code",
   "execution_count": 28,
   "metadata": {
    "pycharm": {
     "name": "#%%\n"
    }
   },
   "outputs": [],
   "source": [
    "def get_all_roc_coordinates(y_real, y_proba):\n",
    "    '''\n",
    "    Calculates all the ROC Curve coordinates (tpr and fpr) by considering each point as a treshold for the predicion of the class.\n",
    "    \n",
    "    Args:\n",
    "        y_real: The list or series with the real classes.\n",
    "        y_proba: The array with the probabilities for each class, obtained by using the `.predict_proba()` method.\n",
    "        \n",
    "    Returns:\n",
    "        tpr_list: The list of TPRs representing each threshold.\n",
    "        fpr_list: The list of FPRs representing each threshold.\n",
    "    '''\n",
    "    tpr_list = [0]\n",
    "    fpr_list = [0]\n",
    "    for i in range(len(y_proba)):\n",
    "        threshold = y_proba[i]\n",
    "        y_pred = y_proba >= threshold\n",
    "        tpr, fpr = calculate_tpr_fpr(y_real, y_pred)\n",
    "        tpr_list.append(tpr)\n",
    "        fpr_list.append(fpr)\n",
    "    return tpr_list, fpr_list"
   ]
  },
  {
   "cell_type": "code",
   "execution_count": 29,
   "metadata": {
    "pycharm": {
     "name": "#%%\n"
    }
   },
   "outputs": [],
   "source": [
    "def plot_roc_curve(tpr, fpr, scatter = True, ax = None):\n",
    "    '''\n",
    "    Plots the ROC Curve by using the list of coordinates (tpr and fpr).\n",
    "    \n",
    "    Args:\n",
    "        tpr: The list of TPRs representing each coordinate.\n",
    "        fpr: The list of FPRs representing each coordinate.\n",
    "        scatter: When True, the points used on the calculation will be plotted with the line (default = True).\n",
    "    '''\n",
    "    if ax == None:\n",
    "        plt.figure(figsize = (5, 5))\n",
    "        ax = plt.axes()\n",
    "    \n",
    "    if scatter:\n",
    "        sb.scatterplot(x = fpr, y = tpr, ax = ax)\n",
    "    sb.lineplot(x = fpr, y = tpr, ax = ax)\n",
    "    sb.lineplot(x = [0, 1], y = [0, 1], color = 'green', ax = ax)\n",
    "    plt.xlim(-0.05, 1.05)\n",
    "    plt.ylim(-0.05, 1.05)\n",
    "    plt.xlabel(\"False Positive Rate\")\n",
    "    plt.ylabel(\"True Positive Rate\")"
   ]
  },
  {
   "cell_type": "code",
   "execution_count": 30,
   "metadata": {
    "pycharm": {
     "name": "#%%\n"
    }
   },
   "outputs": [],
   "source": [
    "classes = [0,1,2,3]"
   ]
  },
  {
   "cell_type": "code",
   "execution_count": 31,
   "metadata": {
    "pycharm": {
     "name": "#%%\n"
    }
   },
   "outputs": [
    {
     "data": {
      "image/png": "[encoded data removed]",
      "text/plain": [
       "<Figure size 864x576 with 8 Axes>"
      ]
     },
     "metadata": {
      "needs_background": "dark"
     },
     "output_type": "display_data"
    }
   ],
   "source": [
    "# Plots the Probability Distributions and the ROC Curves One vs Rest\n",
    "plt.figure(figsize = (12, 8))\n",
    "bins = [i/20 for i in range(20)] + [1]\n",
    "roc_auc_ovr = {}\n",
    "\n",
    "for i in range(len(classes)):\n",
    "    # Gets the class\n",
    "    c = classes[i]\n",
    "    \n",
    "    # Prepares an auxiliar dataframe to help with the plots\n",
    "    column_names = [\"class\", \"prob\"]\n",
    "    df_aux = pd.DataFrame(columns = column_names)\n",
    "    df_aux['class'] = [1 if y == c else 0 for y in y_test]\n",
    "    df_aux['prob'] = y_pred_prob[:, i]\n",
    "    df_aux = df_aux.reset_index(drop = True)\n",
    "    \n",
    "    # Plots the probability distribution for the class and the rest\n",
    "    ax = plt.subplot(2, 4, i+1)\n",
    "    sb.histplot(x = \"prob\", data = df_aux, hue = 'class', color = 'b', ax = ax, bins = bins)\n",
    "    ax.set_title(c)\n",
    "    ax.legend([f\"Class: {c}\", \"Rest\"])\n",
    "    ax.set_xlabel(f\"P(x = {c})\")\n",
    "    \n",
    "    # Calculates the ROC Coordinates and plots the ROC Curves\n",
    "    ax_bottom = plt.subplot(2, 4, i+5)\n",
    "    tpr, fpr = get_all_roc_coordinates(df_aux['class'], df_aux['prob'])\n",
    "    plot_roc_curve(tpr, fpr, scatter = False, ax = ax_bottom)\n",
    "    ax_bottom.set_title(\"ROC Curve OvR\")\n",
    "    \n",
    "    # Calculates the ROC AUC OvR\n",
    "    roc_auc_ovr[c] = roc_auc_score(df_aux['class'], df_aux['prob'])"
   ]
  },
  {
   "cell_type": "code",
   "execution_count": 32,
   "metadata": {
    "pycharm": {
     "name": "#%%\n"
    }
   },
   "outputs": [
    {
     "name": "stdout",
     "output_type": "stream",
     "text": [
      "0 ROC AUC OvR: 0.8591\n",
      "1 ROC AUC OvR: 0.8813\n",
      "2 ROC AUC OvR: 0.8647\n",
      "3 ROC AUC OvR: 0.8208\n",
      "average ROC AUC OvR: 0.8565\n"
     ]
    }
   ],
   "source": [
    "# Exibe a metrica ROC AUC para cada classe\n",
    "avg_roc_auc = 0\n",
    "i = 0\n",
    "for k in roc_auc_ovr:\n",
    "    avg_roc_auc += roc_auc_ovr[k]\n",
    "    i += 1\n",
    "    print(f\"{k} ROC AUC OvR: {roc_auc_ovr[k]:.4f}\")\n",
    "print(f\"average ROC AUC OvR: {avg_roc_auc/i:.4f}\")"
   ]
  },
  {
   "cell_type": "code",
   "execution_count": 33,
   "metadata": {
    "pycharm": {
     "name": "#%%\n"
    }
   },
   "outputs": [
    {
     "data": {
      "text/plain": [
       "0.8564612006528416"
      ]
     },
     "execution_count": 33,
     "metadata": {},
     "output_type": "execute_result"
    }
   ],
   "source": [
    "# Comparacao do resultado acima com a funcao do sklearn\n",
    "\n",
    "roc_auc_score(y_test, y_pred_prob, labels = classes, multi_class = 'ovr', average = 'macro')"
   ]
  },
  {
   "cell_type": "code",
   "execution_count": 34,
   "metadata": {
    "pycharm": {
     "name": "#%%\n"
    }
   },
   "outputs": [
    {
     "data": {
      "text/plain": [
       "[[0, 1],\n",
       " [1, 0],\n",
       " [0, 2],\n",
       " [2, 0],\n",
       " [0, 3],\n",
       " [3, 0],\n",
       " [1, 2],\n",
       " [2, 1],\n",
       " [1, 3],\n",
       " [3, 1],\n",
       " [2, 3],\n",
       " [3, 2]]"
      ]
     },
     "execution_count": 34,
     "metadata": {},
     "output_type": "execute_result"
    }
   ],
   "source": [
    "classes_combinations = []\n",
    "class_list = list(classes)\n",
    "for i in range(len(class_list)):\n",
    "    for j in range(i+1, len(class_list)):\n",
    "        classes_combinations.append([class_list[i], class_list[j]])\n",
    "        classes_combinations.append([class_list[j], class_list[i]])\n",
    "classes_combinations"
   ]
  },
  {
   "cell_type": "code",
   "execution_count": 35,
   "metadata": {
    "pycharm": {
     "name": "#%%\n"
    }
   },
   "outputs": [
    {
     "data": {
      "image/png": "[encoded data removed]",
      "text/plain": [
       "<Figure size 1440x504 with 24 Axes>"
      ]
     },
     "metadata": {
      "needs_background": "dark"
     },
     "output_type": "display_data"
    }
   ],
   "source": [
    "# Plots the Probability Distributions and the ROC Curves One vs ONe\n",
    "plt.figure(figsize = (20, 7))\n",
    "bins = [i/20 for i in range(20)] + [1]\n",
    "roc_auc_ovo = {}\n",
    "\n",
    "for i in range(len(classes_combinations)):\n",
    "    # Gets the class\n",
    "    comb = classes_combinations[i]\n",
    "    c1 = comb[0]\n",
    "    c2 = comb[1]\n",
    "    c1_index = class_list.index(c1)\n",
    "    title = str(c1) + \" vs \" + str(c2)\n",
    "    \n",
    "    # Prepares an auxiliar dataframe to help with the plots\n",
    "    column_names = [\"class\", \"prob\"]\n",
    "    df_aux = pd.DataFrame(columns = column_names)\n",
    "    df_aux['class'] = y_test\n",
    "    df_aux['prob'] = y_pred_prob[:, c1_index]\n",
    "    \n",
    "    # Slices only the subset with both classes\n",
    "    df_aux = df_aux[(df_aux['class'] == c1) | (df_aux['class'] == c2)]\n",
    "    df_aux['class'] = [1 if y == c1 else 0 for y in df_aux['class']]\n",
    "    df_aux = df_aux.reset_index(drop = True)\n",
    "    \n",
    "    # Plots the probability distribution for the class and the rest\n",
    "    ax = plt.subplot(4, 6, i+1)\n",
    "    sb.histplot(x = \"prob\", data = df_aux, hue = 'class', color = 'b', ax = ax, bins = bins)\n",
    "    ax.set_title(title)\n",
    "    ax.legend([f\"Class 1: {c1}\", f\"Class 0: {c2}\"])\n",
    "    ax.set_xlabel(f\"P(x = {c1})\")\n",
    "    \n",
    "    # Calculates the ROC Coordinates and plots the ROC Curves\n",
    "    ax_bottom = plt.subplot(4, 6, i+13)\n",
    "    tpr, fpr = get_all_roc_coordinates(df_aux['class'], df_aux['prob'])\n",
    "    plot_roc_curve(tpr, fpr, scatter = False, ax = ax_bottom)\n",
    "    ax_bottom.set_title(\"ROC Curve OvO\")\n",
    "    \n",
    "    # Calculates the ROC AUC OvO\n",
    "    roc_auc_ovo[title] = roc_auc_score(df_aux['class'], df_aux['prob'])\n",
    "    \n",
    "plt.tight_layout()"
   ]
  },
  {
   "cell_type": "code",
   "execution_count": 36,
   "metadata": {
    "pycharm": {
     "name": "#%%\n"
    }
   },
   "outputs": [
    {
     "name": "stdout",
     "output_type": "stream",
     "text": [
      "0 vs 1 ROC AUC OvO: 0.8755\n",
      "1 vs 0 ROC AUC OvO: 0.8805\n",
      "0 vs 2 ROC AUC OvO: 0.9042\n",
      "2 vs 0 ROC AUC OvO: 0.8721\n",
      "0 vs 3 ROC AUC OvO: 0.8389\n",
      "3 vs 0 ROC AUC OvO: 0.8224\n",
      "1 vs 2 ROC AUC OvO: 0.8802\n",
      "2 vs 1 ROC AUC OvO: 0.8574\n",
      "1 vs 3 ROC AUC OvO: 0.8832\n",
      "3 vs 1 ROC AUC OvO: 0.8430\n",
      "2 vs 3 ROC AUC OvO: 0.8526\n",
      "3 vs 2 ROC AUC OvO: 0.7903\n",
      "average ROC AUC OvO: 0.8584\n"
     ]
    }
   ],
   "source": [
    "# Exibe a metrica ROC AUC para cada classe\n",
    "avg_roc_auc = 0\n",
    "i = 0\n",
    "for k in roc_auc_ovo:\n",
    "    avg_roc_auc += roc_auc_ovo[k]\n",
    "    i += 1\n",
    "    print(f\"{k} ROC AUC OvO: {roc_auc_ovo[k]:.4f}\")\n",
    "print(f\"average ROC AUC OvO: {avg_roc_auc/i:.4f}\")"
   ]
  },
  {
   "cell_type": "code",
   "execution_count": 37,
   "metadata": {
    "pycharm": {
     "name": "#%%\n"
    }
   },
   "outputs": [
    {
     "data": {
      "text/plain": [
       "0.8583635089459873"
      ]
     },
     "execution_count": 37,
     "metadata": {},
     "output_type": "execute_result"
    }
   ],
   "source": [
    "# Comparacao do resultado acima com a funcao do sklearn\n",
    "roc_auc_score(y_test, y_pred_prob, labels = classes, multi_class = 'ovo', average = 'macro')"
   ]
  },
  {
   "cell_type": "code",
   "execution_count": 38,
   "metadata": {
    "pycharm": {
     "name": "#%%\n"
    }
   },
   "outputs": [
    {
     "name": "stdout",
     "output_type": "stream",
     "text": [
      "\u001b[1m\u001b[31mMATRIZ DE CONFUSAO\u001b[0m\n",
      "---------------------- \n",
      "\n",
      "[[549  22   9  74]\n",
      " [ 13  83   0  12]\n",
      " [  9   3  86  15]\n",
      " [ 52   4   9 275]]\n",
      "---------------------- \n",
      "\n",
      "\u001b[1m\u001b[31mACURACIDADE\u001b[0m\n",
      "---------------------- \n",
      "\n",
      "0.817283950617284\n",
      "---------------------- \n",
      "\n",
      "\u001b[34m\n",
      " \n",
      "  RELATORIO COM MAIS INFORMACOES\n",
      "\n",
      " \n",
      " \n",
      " \n",
      "              precision    recall  f1-score   support\n",
      "\n",
      "           0       0.88      0.84      0.86       654\n",
      "           1       0.74      0.77      0.75       108\n",
      "           2       0.83      0.76      0.79       113\n",
      "           3       0.73      0.81      0.77       340\n",
      "\n",
      "    accuracy                           0.82      1215\n",
      "   macro avg       0.80      0.79      0.79      1215\n",
      "weighted avg       0.82      0.82      0.82      1215\n",
      "\n",
      "F1 Score :  0.793789082114668\n",
      "Precision Score :  0.7951493469774309\n",
      "Recall Score :  0.7944633840293354\n"
     ]
    },
    {
     "data": {
      "text/plain": [
       "<AxesSubplot:>"
      ]
     },
     "execution_count": 38,
     "metadata": {},
     "output_type": "execute_result"
    },
    {
     "data": {
      "image/png": "[encoded data removed]",
      "text/plain": [
       "<Figure size 432x288 with 2 Axes>"
      ]
     },
     "metadata": {
      "needs_background": "dark"
     },
     "output_type": "display_data"
    }
   ],
   "source": [
    "### TESTE COM ENSEMBLE RANDOM FOREST\n",
    "\n",
    "rnd_mdl = RandomForestClassifier()\n",
    "rnd_mdl.fit(X_train, y_train)\n",
    "\n",
    "\n",
    "y_pred = rnd_mdl.predict(X_test)\n",
    "\n",
    "#Acuracidade\n",
    "\n",
    "\n",
    "print(Style.BRIGHT + Fore.RED + \"MATRIZ DE CONFUSAO\" + Style.RESET_ALL)\n",
    "print(\"---------------------- \\n\")\n",
    "print(confusion_matrix(y_test, y_pred))\n",
    "print(\"---------------------- \\n\")    \n",
    "\n",
    "\n",
    "print(Style.BRIGHT + Fore.RED + \"ACURACIDADE\" + Style.RESET_ALL)\n",
    "print(\"---------------------- \\n\")\n",
    "print(accuracy_score(y_test, y_pred))\n",
    "print(\"---------------------- \\n\")    \n",
    "\n",
    "\n",
    "print(Fore.BLUE +  \"\\n \\n  RELATORIO COM MAIS INFORMACOES\")\n",
    "print(\"\\n \\n \\n \")\n",
    "\n",
    "print(classification_report(y_test, y_pred))\n",
    "print(\"F1 Score : \",f1_score(y_test, y_pred, average=\"macro\"))\n",
    "print(\"Precision Score : \",precision_score(y_test, y_pred, \n",
    "                                           average=\"macro\"))\n",
    "print(\"Recall Score : \",recall_score(y_test, y_pred, \n",
    "                                           average=\"macro\"))\n",
    "\n",
    "sb.heatmap(confusion_matrix(y_test, y_pred), annot=True, cmap='Blues', fmt='g')\n",
    "\n",
    "### ------------------------------------------------------------------------------------------------"
   ]
  },
  {
   "cell_type": "code",
   "execution_count": 39,
   "metadata": {
    "pycharm": {
     "name": "#%%\n"
    }
   },
   "outputs": [
    {
     "name": "stdout",
     "output_type": "stream",
     "text": [
      "\u001b[1m\u001b[31mMATRIZ DE CONFUSAO\u001b[0m\n",
      "---------------------- \n",
      "\n",
      "[[546  30   8  70]\n",
      " [ 36  66   0   6]\n",
      " [ 29   4  66  14]\n",
      " [109   6  11 214]]\n",
      "---------------------- \n",
      "\n",
      "\u001b[1m\u001b[31mACURACIDADE\u001b[0m\n",
      "---------------------- \n",
      "\n",
      "0.7341563786008231\n",
      "---------------------- \n",
      "\n",
      "\u001b[34m\n",
      " \n",
      "  RELATORIO COM MAIS INFORMACOES\n",
      "\n",
      " \n",
      " \n",
      " \n",
      "              precision    recall  f1-score   support\n",
      "\n",
      "           0       0.76      0.83      0.79       654\n",
      "           1       0.62      0.61      0.62       108\n",
      "           2       0.78      0.58      0.67       113\n",
      "           3       0.70      0.63      0.66       340\n",
      "\n",
      "    accuracy                           0.73      1215\n",
      "   macro avg       0.72      0.66      0.69      1215\n",
      "weighted avg       0.73      0.73      0.73      1215\n",
      "\n",
      "F1 Score :  0.6857112987981613\n",
      "Precision Score :  0.7153481998559106\n",
      "Recall Score :  0.6648640143995679\n"
     ]
    },
    {
     "data": {
      "text/plain": [
       "<AxesSubplot:>"
      ]
     },
     "execution_count": 39,
     "metadata": {},
     "output_type": "execute_result"
    },
    {
     "data": {
      "image/png": "[encoded data removed]",
      "text/plain": [
       "<Figure size 432x288 with 2 Axes>"
      ]
     },
     "metadata": {
      "needs_background": "dark"
     },
     "output_type": "display_data"
    }
   ],
   "source": [
    "# TESTE COM KNN\n",
    "knn = KNeighborsClassifier(3)\n",
    "\n",
    "X = BagOfWords_result\n",
    "y = df['target']\n",
    "X_train, X_test, y_train, y_test = train_test_split(X, y, test_size=0.3, stratify=y, random_state=42)\n",
    "\n",
    "knn.fit(X_train, y_train)\n",
    "\n",
    "y_pred = knn.predict(X_test)\n",
    "\n",
    "\n",
    "\n",
    "\n",
    "#Acuracidade\n",
    "\n",
    "\n",
    "print(Style.BRIGHT + Fore.RED + \"MATRIZ DE CONFUSAO\" + Style.RESET_ALL)\n",
    "print(\"---------------------- \\n\")\n",
    "print(confusion_matrix(y_test, y_pred))\n",
    "print(\"---------------------- \\n\")    \n",
    "\n",
    "\n",
    "print(Style.BRIGHT + Fore.RED + \"ACURACIDADE\" + Style.RESET_ALL)\n",
    "print(\"---------------------- \\n\")\n",
    "print(accuracy_score(y_test, y_pred))\n",
    "print(\"---------------------- \\n\")    \n",
    "\n",
    "\n",
    "print(Fore.BLUE +  \"\\n \\n  RELATORIO COM MAIS INFORMACOES\")\n",
    "print(\"\\n \\n \\n \")\n",
    "\n",
    "print(classification_report(y_test, y_pred))\n",
    "print(\"F1 Score : \",f1_score(y_test, y_pred, average=\"macro\"))\n",
    "print(\"Precision Score : \",precision_score(y_test, y_pred, \n",
    "                                           average=\"macro\"))\n",
    "print(\"Recall Score : \",recall_score(y_test, y_pred, \n",
    "                                           average=\"macro\"))\n",
    "\n",
    "sb.heatmap(confusion_matrix(y_test, y_pred), annot=True, cmap='Blues', fmt='g')\n",
    "\n",
    "### ------------------------------------------------------------------------------------------------"
   ]
  },
  {
   "cell_type": "code",
   "execution_count": 40,
   "metadata": {
    "pycharm": {
     "name": "#%%\n"
    }
   },
   "outputs": [
    {
     "name": "stdout",
     "output_type": "stream",
     "text": [
      "\u001b[1m\u001b[31mMATRIZ DE CONFUSAO\u001b[0m\n",
      "---------------------- \n",
      "\n",
      "[[584  10   8  52]\n",
      " [ 24  76   1   7]\n",
      " [ 19   2  78  14]\n",
      " [ 77   4  10 249]]\n",
      "---------------------- \n",
      "\n",
      "\u001b[1m\u001b[31mACURACIDADE\u001b[0m\n",
      "---------------------- \n",
      "\n",
      "0.8123456790123457\n",
      "---------------------- \n",
      "\n",
      "\u001b[34m\n",
      " \n",
      "  RELATORIO COM MAIS INFORMACOES\n",
      "\n",
      " \n",
      " \n",
      " \n",
      "              precision    recall  f1-score   support\n",
      "\n",
      "           0       0.83      0.89      0.86       654\n",
      "           1       0.83      0.70      0.76       108\n",
      "           2       0.80      0.69      0.74       113\n",
      "           3       0.77      0.73      0.75       340\n",
      "\n",
      "    accuracy                           0.81      1215\n",
      "   macro avg       0.81      0.75      0.78      1215\n",
      "weighted avg       0.81      0.81      0.81      1215\n",
      "\n",
      "F1 Score :  0.7788028422818344\n",
      "Precision Score :  0.8082620119683097\n",
      "Recall Score :  0.7548221231155268\n"
     ]
    },
    {
     "data": {
      "text/plain": [
       "<AxesSubplot:>"
      ]
     },
     "execution_count": 40,
     "metadata": {},
     "output_type": "execute_result"
    },
    {
     "data": {
      "image/png": "[encoded data removed]",
      "text/plain": [
       "<Figure size 432x288 with 2 Axes>"
      ]
     },
     "metadata": {
      "needs_background": "dark"
     },
     "output_type": "display_data"
    }
   ],
   "source": [
    "## TESTE COM REGRESSÃO LOGISTICA\n",
    "lr = LogisticRegression()\n",
    "\n",
    "\n",
    "lr.fit(X_train, y_train)                  # Emprega o conjunto de treinamento \n",
    "\n",
    "y_pred = lr.predict(X_test)\n",
    "\n",
    "\n",
    "\n",
    "#Acuracidade\n",
    "\n",
    "\n",
    "print(Style.BRIGHT + Fore.RED + \"MATRIZ DE CONFUSAO\" + Style.RESET_ALL)\n",
    "print(\"---------------------- \\n\")\n",
    "print(confusion_matrix(y_test, y_pred))\n",
    "print(\"---------------------- \\n\")    \n",
    "\n",
    "\n",
    "print(Style.BRIGHT + Fore.RED + \"ACURACIDADE\" + Style.RESET_ALL)\n",
    "print(\"---------------------- \\n\")\n",
    "print(accuracy_score(y_test, y_pred))\n",
    "print(\"---------------------- \\n\")    \n",
    "\n",
    "\n",
    "print(Fore.BLUE +  \"\\n \\n  RELATORIO COM MAIS INFORMACOES\")\n",
    "print(\"\\n \\n \\n \")\n",
    "\n",
    "print(classification_report(y_test, y_pred))\n",
    "print(\"F1 Score : \",f1_score(y_test, y_pred, average=\"macro\"))\n",
    "print(\"Precision Score : \",precision_score(y_test, y_pred, \n",
    "                                           average=\"macro\"))\n",
    "print(\"Recall Score : \",recall_score(y_test, y_pred, \n",
    "                                           average=\"macro\"))\n",
    "\n",
    "sb.heatmap(confusion_matrix(y_test, y_pred), annot=True, cmap='Blues', fmt='g')\n",
    "\n",
    "### ------------------------------------------------------------------------------------------------"
   ]
  },
  {
   "cell_type": "code",
   "execution_count": 41,
   "metadata": {
    "pycharm": {
     "name": "#%%\n"
    }
   },
   "outputs": [
    {
     "name": "stdout",
     "output_type": "stream",
     "text": [
      "\u001b[1m\u001b[31mMATRIZ DE CONFUSAO\u001b[0m\n",
      "---------------------- \n",
      "\n",
      "[[584  10   8  52]\n",
      " [ 24  76   1   7]\n",
      " [ 19   2  78  14]\n",
      " [ 77   4  10 249]]\n",
      "---------------------- \n",
      "\n",
      "\u001b[1m\u001b[31mACURACIDADE\u001b[0m\n",
      "---------------------- \n",
      "\n",
      "0.8123456790123457\n",
      "---------------------- \n",
      "\n",
      "\u001b[34m\n",
      " \n",
      "  RELATORIO COM MAIS INFORMACOES\n",
      "\n",
      " \n",
      " \n",
      " \n",
      "              precision    recall  f1-score   support\n",
      "\n",
      "           0       0.83      0.89      0.86       654\n",
      "           1       0.83      0.70      0.76       108\n",
      "           2       0.80      0.69      0.74       113\n",
      "           3       0.77      0.73      0.75       340\n",
      "\n",
      "    accuracy                           0.81      1215\n",
      "   macro avg       0.81      0.75      0.78      1215\n",
      "weighted avg       0.81      0.81      0.81      1215\n",
      "\n",
      "F1 Score :  0.7788028422818344\n",
      "Precision Score :  0.8082620119683097\n",
      "Recall Score :  0.7548221231155268\n"
     ]
    },
    {
     "data": {
      "text/plain": [
       "<AxesSubplot:>"
      ]
     },
     "execution_count": 41,
     "metadata": {},
     "output_type": "execute_result"
    },
    {
     "data": {
      "image/png": "[encoded data removed]",
      "text/plain": [
       "<Figure size 432x288 with 2 Axes>"
      ]
     },
     "metadata": {
      "needs_background": "dark"
     },
     "output_type": "display_data"
    }
   ],
   "source": [
    "## TESTE COM REGRESSÃO LOGISTICA\n",
    "lr = LogisticRegression()\n",
    "\n",
    "\n",
    "lr.fit(X_train, y_train)                  # Emprega o conjunto de treinamento \n",
    "\n",
    "y_pred = lr.predict(X_test)\n",
    "\n",
    "\n",
    "\n",
    "#Acuracidade\n",
    "\n",
    "\n",
    "print(Style.BRIGHT + Fore.RED + \"MATRIZ DE CONFUSAO\" + Style.RESET_ALL)\n",
    "print(\"---------------------- \\n\")\n",
    "print(confusion_matrix(y_test, y_pred))\n",
    "print(\"---------------------- \\n\")    \n",
    "\n",
    "\n",
    "print(Style.BRIGHT + Fore.RED + \"ACURACIDADE\" + Style.RESET_ALL)\n",
    "print(\"---------------------- \\n\")\n",
    "print(accuracy_score(y_test, y_pred))\n",
    "print(\"---------------------- \\n\")    \n",
    "\n",
    "\n",
    "print(Fore.BLUE +  \"\\n \\n  RELATORIO COM MAIS INFORMACOES\")\n",
    "print(\"\\n \\n \\n \")\n",
    "\n",
    "print(classification_report(y_test, y_pred))\n",
    "print(\"F1 Score : \",f1_score(y_test, y_pred, average=\"macro\"))\n",
    "print(\"Precision Score : \",precision_score(y_test, y_pred, \n",
    "                                           average=\"macro\"))\n",
    "print(\"Recall Score : \",recall_score(y_test, y_pred, \n",
    "                                           average=\"macro\"))\n",
    "\n",
    "sb.heatmap(confusion_matrix(y_test, y_pred), annot=True, cmap='Blues', fmt='g')\n",
    "\n",
    "### ------------------------------------------------------------------------------------------------"
   ]
  }
 ],
 "metadata": {
  "kernelspec": {
   "display_name": "Python 3 (ipykernel)",
   "language": "python",
   "name": "python3"
  },
  "language_info": {
   "codemirror_mode": {
    "name": "ipython",
    "version": 3
   },
   "file_extension": ".py",
   "mimetype": "text/x-python",
   "name": "python",
   "nbconvert_exporter": "python",
   "pygments_lexer": "ipython3",
   "version": "3.10.5"
  }
 },
 "nbformat": 4,
 "nbformat_minor": 4
}
